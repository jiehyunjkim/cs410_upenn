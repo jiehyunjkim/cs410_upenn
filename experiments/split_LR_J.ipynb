{
 "cells": [
  {
   "cell_type": "code",
   "execution_count": 1,
   "id": "e0b035e5",
   "metadata": {},
   "outputs": [
    {
     "name": "stdout",
     "output_type": "stream",
     "text": [
      "Populating the interactive namespace from numpy and matplotlib\n"
     ]
    }
   ],
   "source": [
    "%pylab inline\n",
    "%load_ext autoreload\n",
    "%autoreload 2"
   ]
  },
  {
   "cell_type": "code",
   "execution_count": 2,
   "id": "ad9b227c",
   "metadata": {},
   "outputs": [],
   "source": [
    "import os\n",
    "import mahotas as mh\n",
    "import json"
   ]
  },
  {
   "cell_type": "code",
   "execution_count": 3,
   "id": "c604fc52",
   "metadata": {},
   "outputs": [
    {
     "name": "stderr",
     "output_type": "stream",
     "text": [
      "/home/jiehyun.kim001/miniconda3/envs/O/lib/python3.9/site-packages/scipy/__init__.py:146: UserWarning: A NumPy version >=1.16.5 and <1.23.0 is required for this version of SciPy (detected version 1.23.4\n",
      "  warnings.warn(f\"A NumPy version >={np_minversion} and <{np_maxversion}\"\n"
     ]
    }
   ],
   "source": [
    "import cactas as C"
   ]
  },
  {
   "cell_type": "code",
   "execution_count": 4,
   "id": "fac26642",
   "metadata": {},
   "outputs": [],
   "source": [
    "DATAPATH = '/raid/mpsych/CACTAS/DATA/ESUS/'"
   ]
  },
  {
   "cell_type": "code",
   "execution_count": 5,
   "id": "4edf64eb",
   "metadata": {},
   "outputs": [],
   "source": [
    "images = []\n",
    "labels = []\n",
    "\n",
    "g_symp_i_patches = []\n",
    "g_symp_l_patches = []\n",
    "g_asymp_i_patches = []\n",
    "g_asymp_l_patches = []\n",
    "\n",
    "image_patches = []\n",
    "label_patches = []"
   ]
  },
  {
   "cell_type": "code",
   "execution_count": 6,
   "id": "47b09059",
   "metadata": {},
   "outputs": [],
   "source": [
    "with open(\"image_data_v3.json\", \"r\") as fp:\n",
    "    image_data = json.load(fp)\n",
    "with open(\"label_data_v3.json\", \"r\") as fp:\n",
    "    label_data = json.load(fp)"
   ]
  },
  {
   "cell_type": "code",
   "execution_count": 7,
   "id": "c782cf7e",
   "metadata": {},
   "outputs": [],
   "source": [
    "with open(DATAPATH+'../ESUS_stroke_side.csv', 'r') as f:\n",
    "    stroke_sides = f.read().replace('ESUS ','').split('\\n')\n",
    "\n",
    "STROKE_SIDES = {}\n",
    "    \n",
    "for l in stroke_sides[1:]:\n",
    "    l_s = l.split(',')\n",
    "    \n",
    "    if len(l_s) != 5:\n",
    "        continue\n",
    "    \n",
    "    id_ = l_s[0]\n",
    "    age = l_s[1]\n",
    "    sex = l_s[2]\n",
    "    race = l_s[3]\n",
    "    side = l_s[4]\n",
    "    STROKE_SIDES[id_] = side"
   ]
  },
  {
   "cell_type": "code",
   "execution_count": 8,
   "id": "b8598157",
   "metadata": {},
   "outputs": [],
   "source": [
    "images, labels = C.Util.load(DATAPATH)"
   ]
  },
  {
   "cell_type": "code",
   "execution_count": 9,
   "id": "a17d6da1",
   "metadata": {},
   "outputs": [
    {
     "name": "stdout",
     "output_type": "stream",
     "text": [
      "file name 2\n",
      "Stroke side R\n",
      "file name 5\n",
      "Stroke side R\n",
      "file name 6\n",
      "Stroke side L\n",
      "file name 7\n",
      "Stroke side L\n",
      "file name 9\n",
      "Stroke side R\n",
      "file name 10\n",
      "Stroke side L\n",
      "file name 12\n",
      "Stroke side L\n",
      "file name 13\n",
      "Stroke side L\n",
      "file name 14\n",
      "Stroke side L\n",
      "file name 15\n",
      "Stroke side L\n",
      "file name 16\n",
      "Stroke side L\n",
      "file name 17\n",
      "Stroke side R\n",
      "file name 18\n",
      "Stroke side L\n",
      "file name 21\n",
      "Stroke side R\n",
      "file name 22\n",
      "Stroke side L\n",
      "file name 23\n",
      "Stroke side L\n",
      "file name 24\n",
      "Stroke side R\n",
      "file name 25\n",
      "Stroke side L\n",
      "file name 26\n",
      "Stroke side R\n",
      "file name 27\n",
      "Stroke side R\n",
      "file name 29\n",
      "Stroke side R\n",
      "file name 31\n",
      "Stroke side L\n",
      "file name 32\n",
      "Stroke side R\n",
      "file name 33\n",
      "Stroke side R\n",
      "file name 35\n",
      "Stroke side L\n",
      "file name 36\n",
      "Stroke side R\n",
      "file name 39\n",
      "Stroke side L\n",
      "file name 40\n",
      "Stroke side R\n",
      "file name 41\n",
      "Stroke side R\n",
      "file name 45\n",
      "Stroke side L\n",
      "file name 46\n",
      "Stroke side R\n",
      "file name 47\n",
      "Stroke side L\n",
      "file name 48\n",
      "Stroke side L\n",
      "file name 49\n",
      "Stroke side R\n",
      "file name 50\n",
      "Stroke side R\n",
      "file name 51\n",
      "Stroke side L\n",
      "file name 52\n",
      "Stroke side R\n",
      "file name 53\n",
      "Stroke side L\n",
      "file name 57\n",
      "Stroke side L\n",
      "file name 61\n",
      "Stroke side L\n",
      "file name 62\n",
      "Stroke side R\n",
      "file name 63\n",
      "Stroke side R\n",
      "file name 64\n",
      "Stroke side L\n",
      "file name 66\n",
      "Stroke side R\n",
      "file name 69\n",
      "Stroke side L\n",
      "file name 71\n",
      "Stroke side L\n",
      "file name 72\n",
      "Stroke side R\n",
      "file name 73\n",
      "Stroke side R\n",
      "file name 75\n",
      "Stroke side R\n",
      "file name 77\n",
      "Stroke side L\n",
      "file name 79\n",
      "Stroke side R\n",
      "file name 82\n",
      "Stroke side R\n",
      "file name 83\n",
      "Stroke side L\n",
      "file name 84\n",
      "Stroke side R\n",
      "file name 86\n",
      "Stroke side L\n",
      "file name 87\n",
      "Stroke side L\n",
      "file name 88\n",
      "Stroke side L\n",
      "file name 90\n",
      "Stroke side L\n",
      "file name 91\n",
      "Stroke side R\n",
      "file name 92\n",
      "Stroke side L\n",
      "file name 93\n",
      "Stroke side L\n",
      "file name 94\n",
      "Stroke side L\n",
      "file name 96\n",
      "Stroke side R\n",
      "file name 97\n",
      "Stroke side L\n"
     ]
    }
   ],
   "source": [
    "for key, val in image_data.items():\n",
    "    stroke_side = STROKE_SIDES[key]\n",
    "    print('file name', key)\n",
    "    print('Stroke side', stroke_side)"
   ]
  },
  {
   "cell_type": "code",
   "execution_count": 10,
   "id": "d4af0073",
   "metadata": {},
   "outputs": [],
   "source": [
    "# normalize grayscale to 0..1\n",
    "images, labels = C.Util.normalize(images, labels)\n",
    "\n",
    "# for each scan\n",
    "symp_i_patches = []\n",
    "symp_l_patches = []\n",
    "asymp_i_patches = []\n",
    "asymp_l_patches = []"
   ]
  },
  {
   "cell_type": "code",
   "execution_count": 11,
   "id": "1ad7bdb0",
   "metadata": {},
   "outputs": [],
   "source": [
    "for i in range(labels.shape[0]):\n",
    "    bbox = mh.bbox(labels[i])\n",
    "    \n",
    "    #print(bbox)\n",
    "\n",
    "    location = ''\n",
    "    if (512-bbox[0] < 256):\n",
    "        location = 'L' # patient view\n",
    "    else:\n",
    "        location = 'R' # patient view\n",
    "        \n",
    "    increase_x = 10\n",
    "    increase_y = 10\n",
    "    increase_z=0\n",
    "    target_size=None\n",
    "    just_z=False\n",
    "    \n",
    "    if target_size:\n",
    "        widthY = bbox[1]-bbox[0]\n",
    "        widthX = bbox[3]-bbox[2]\n",
    "\n",
    "        increase_x = (target_size - widthX) // 2\n",
    "        increase_y = (target_size - widthY) // 2\n",
    "\n",
    "        bufferY = 0\n",
    "    if (bbox[0]-increase_y + bbox[1]+increase_y) != target_size:\n",
    "        bufferY = 1\n",
    "\n",
    "        bufferX = 0\n",
    "    if (bbox[2]-increase_x + bbox[3]+increase_x) != target_size:\n",
    "        bufferX = 1\n",
    "\n",
    "\n",
    "    if just_z:\n",
    "        increase_xy = 0\n",
    "        bbox[0] = 0\n",
    "        bbox[1] = image.shape[0]\n",
    "        bbox[2] = 0\n",
    "        bbox[3] = image.shape[1]\n",
    "\n",
    "\n",
    "    # crop label and image according to bbox but make it a little larger\n",
    "    label_cropped = labels[bbox[0]-increase_y:bbox[1]+increase_y+bufferY, \n",
    "                          bbox[2]-increase_x:bbox[3]+increase_x+bufferX,\n",
    "                          bbox[4]-increase_z:bbox[5]+increase_z]\n",
    "    image_cropped = images[bbox[0]-increase_y:bbox[1]+increase_y+bufferY, \n",
    "                          bbox[2]-increase_x:bbox[3]+increase_x+bufferX,\n",
    "                          bbox[4]-increase_z:bbox[5]+increase_z]\n",
    "    \n",
    "    if location == stroke_side:\n",
    "        symp_i_patches.append(image_cropped)\n",
    "        symp_l_patches.append(label_cropped)\n",
    "    else:\n",
    "        asymp_i_patches.append(image_cropped)\n",
    "        asymp_l_patches.append(label_cropped)\n"
   ]
  },
  {
   "cell_type": "code",
   "execution_count": 13,
   "id": "07b434e1",
   "metadata": {},
   "outputs": [
    {
     "ename": "ValueError",
     "evalue": "could not broadcast input array from shape (25,27,1) into shape (25,27)",
     "output_type": "error",
     "traceback": [
      "\u001b[0;31m---------------------------------------------------------------------------\u001b[0m",
      "\u001b[0;31mValueError\u001b[0m                                Traceback (most recent call last)",
      "\u001b[0;32m/tmp/ipykernel_3402310/368090791.py\u001b[0m in \u001b[0;36m<module>\u001b[0;34m\u001b[0m\n\u001b[1;32m     16\u001b[0m     \u001b[0;31m#print(c_d_x)\u001b[0m\u001b[0;34m\u001b[0m\u001b[0;34m\u001b[0m\u001b[0m\n\u001b[1;32m     17\u001b[0m \u001b[0;34m\u001b[0m\u001b[0m\n\u001b[0;32m---> 18\u001b[0;31m     \u001b[0mout\u001b[0m\u001b[0;34m[\u001b[0m\u001b[0;36m0\u001b[0m\u001b[0;34m:\u001b[0m\u001b[0mc_d_y\u001b[0m\u001b[0;34m,\u001b[0m\u001b[0;36m0\u001b[0m\u001b[0;34m:\u001b[0m\u001b[0mc_d_x\u001b[0m\u001b[0;34m,\u001b[0m\u001b[0mi\u001b[0m\u001b[0;34m]\u001b[0m \u001b[0;34m=\u001b[0m \u001b[0ml\u001b[0m\u001b[0;34m[\u001b[0m\u001b[0mi\u001b[0m\u001b[0;34m]\u001b[0m\u001b[0;34m[\u001b[0m\u001b[0;36m0\u001b[0m\u001b[0;34m:\u001b[0m\u001b[0mc_d_y\u001b[0m\u001b[0;34m,\u001b[0m\u001b[0;36m0\u001b[0m\u001b[0;34m:\u001b[0m\u001b[0mc_d_x\u001b[0m\u001b[0;34m,\u001b[0m\u001b[0;36m0\u001b[0m\u001b[0;34m]\u001b[0m\u001b[0;34m\u001b[0m\u001b[0;34m\u001b[0m\u001b[0m\n\u001b[0m",
      "\u001b[0;31mValueError\u001b[0m: could not broadcast input array from shape (25,27,1) into shape (25,27)"
     ]
    }
   ],
   "source": [
    "l = symp_i_patches\n",
    "\n",
    "count = len(l)\n",
    "#print(count)\n",
    "#print(l[0].shape) #(25, 27, 1, 1)\n",
    "d_y = l[0].shape[0]\n",
    "d_x = l[0].shape[1]\n",
    "#print(d_y, d_x)\n",
    "\n",
    "out = np.zeros((d_y, d_x, count), dtype=l[0].dtype)\n",
    "#print(out.shape)\n",
    "for i in range(count):\n",
    "    c_d_y = min(d_y, l[i].shape[0])\n",
    "    c_d_x = min(d_x, l[i].shape[1])\n",
    "    #print(c_d_y)\n",
    "    #print(c_d_x)\n",
    "\n",
    "    out[0:c_d_y,0:c_d_x,i] = l[i][0:c_d_y,0:c_d_x,0]\n"
   ]
  },
  {
   "cell_type": "code",
   "execution_count": null,
   "id": "fa0dcb4a",
   "metadata": {},
   "outputs": [],
   "source": []
  },
  {
   "cell_type": "code",
   "execution_count": null,
   "id": "8f7e3502",
   "metadata": {},
   "outputs": [],
   "source": []
  },
  {
   "cell_type": "code",
   "execution_count": null,
   "id": "c0b89911",
   "metadata": {},
   "outputs": [],
   "source": []
  },
  {
   "cell_type": "code",
   "execution_count": null,
   "id": "62ab1544",
   "metadata": {},
   "outputs": [],
   "source": []
  },
  {
   "cell_type": "code",
   "execution_count": null,
   "id": "b65a25d1",
   "metadata": {},
   "outputs": [],
   "source": []
  },
  {
   "cell_type": "code",
   "execution_count": null,
   "id": "446aa9fe",
   "metadata": {},
   "outputs": [],
   "source": []
  },
  {
   "cell_type": "code",
   "execution_count": 12,
   "id": "bb7ed8ee",
   "metadata": {},
   "outputs": [],
   "source": [
    "def list_to_array(l):\n",
    "    '''assuming all elements same size\n",
    "    '''\n",
    "    count = len(l)\n",
    "\n",
    "    d_y = l[0].shape[0]\n",
    "    d_x = l[0].shape[1]\n",
    "\n",
    "    out = np.zeros((d_y, d_x, count), dtype=l[0].dtype)\n",
    "\n",
    "    for i in range(count):\n",
    "        c_d_y = min(d_y, l[i].shape[0])\n",
    "        c_d_x = min(d_x, l[i].shape[1])\n",
    "\n",
    "        out[0:c_d_y,0:c_d_x,i] = l[i][0:c_d_y,0:c_d_x,0]\n",
    "\n",
    "    return out"
   ]
  },
  {
   "cell_type": "code",
   "execution_count": 13,
   "id": "395da365",
   "metadata": {},
   "outputs": [],
   "source": [
    "def view(image, label, alpha=0.7, title=None, vmin=-600, vmax=1000):\n",
    "    masked = np.ma.masked_where(label==0, label)\n",
    "\n",
    "    if image.ndim == 3:\n",
    "        slices = image.shape[2]\n",
    "    else:\n",
    "        slices = 1\n",
    "\n",
    "    fig = plt.figure(figsize=(slices,3))\n",
    "\n",
    "    if title:\n",
    "        fig.suptitle(title, fontsize=12, fontweight='bold')\n",
    "\n",
    "    for i in range(slices):\n",
    "        plt.subplot(1, slices, i+1)\n",
    "\n",
    "        plt.axis('off')\n",
    "\n",
    "        if slices > 1:\n",
    "            plt.imshow(image[:,:,i], cmap='gray', vmin=vmin, vmax=vmax)\n",
    "            plt.imshow(masked[:,:,i], cmap='jet', interpolation='none', alpha=alpha) \n",
    "        else:\n",
    "            plt.imshow(image, cmap='gray', vmin=vmin, vmax=vmax)\n",
    "            plt.imshow(masked, cmap='jet', interpolation='none', alpha=alpha) "
   ]
  },
  {
   "cell_type": "code",
   "execution_count": 14,
   "id": "5f9111a5",
   "metadata": {},
   "outputs": [
    {
     "ename": "ValueError",
     "evalue": "could not broadcast input array from shape (25,27,1) into shape (25,27)",
     "output_type": "error",
     "traceback": [
      "\u001b[0;31m---------------------------------------------------------------------------\u001b[0m",
      "\u001b[0;31mValueError\u001b[0m                                Traceback (most recent call last)",
      "\u001b[0;32m/tmp/ipykernel_3371389/2032676635.py\u001b[0m in \u001b[0;36m<module>\u001b[0;34m\u001b[0m\n\u001b[1;32m      2\u001b[0m     \u001b[0;31m### plot\u001b[0m\u001b[0;34m\u001b[0m\u001b[0;34m\u001b[0m\u001b[0m\n\u001b[1;32m      3\u001b[0m     \u001b[0;32mif\u001b[0m \u001b[0mlen\u001b[0m\u001b[0;34m(\u001b[0m\u001b[0msymp_i_patches\u001b[0m\u001b[0;34m)\u001b[0m \u001b[0;34m>\u001b[0m \u001b[0;36m0\u001b[0m\u001b[0;34m:\u001b[0m\u001b[0;34m\u001b[0m\u001b[0;34m\u001b[0m\u001b[0m\n\u001b[0;32m----> 4\u001b[0;31m         \u001b[0msymp_i_patches_a\u001b[0m \u001b[0;34m=\u001b[0m \u001b[0mlist_to_array\u001b[0m\u001b[0;34m(\u001b[0m\u001b[0msymp_i_patches\u001b[0m\u001b[0;34m)\u001b[0m\u001b[0;34m\u001b[0m\u001b[0;34m\u001b[0m\u001b[0m\n\u001b[0m\u001b[1;32m      5\u001b[0m         \u001b[0mview\u001b[0m\u001b[0;34m(\u001b[0m\u001b[0msymp_i_patches_a\u001b[0m\u001b[0;34m,\u001b[0m \u001b[0msymp_i_patches_a\u001b[0m\u001b[0;34m,\u001b[0m \u001b[0mvmin\u001b[0m\u001b[0;34m=\u001b[0m\u001b[0;36m0\u001b[0m\u001b[0;34m,\u001b[0m \u001b[0mvmax\u001b[0m\u001b[0;34m=\u001b[0m\u001b[0;36m1\u001b[0m\u001b[0;34m,\u001b[0m \u001b[0malpha\u001b[0m\u001b[0;34m=\u001b[0m\u001b[0;36m0\u001b[0m\u001b[0;34m,\u001b[0m \u001b[0mtitle\u001b[0m\u001b[0;34m=\u001b[0m\u001b[0md\u001b[0m\u001b[0;34m+\u001b[0m\u001b[0;34m' symp.'\u001b[0m \u001b[0;34m)\u001b[0m\u001b[0;34m\u001b[0m\u001b[0;34m\u001b[0m\u001b[0m\n\u001b[1;32m      6\u001b[0m     \u001b[0;32melse\u001b[0m\u001b[0;34m:\u001b[0m\u001b[0;34m\u001b[0m\u001b[0;34m\u001b[0m\u001b[0m\n",
      "\u001b[0;32m/tmp/ipykernel_3371389/1276533163.py\u001b[0m in \u001b[0;36mlist_to_array\u001b[0;34m(l)\u001b[0m\n\u001b[1;32m     13\u001b[0m         \u001b[0mc_d_x\u001b[0m \u001b[0;34m=\u001b[0m \u001b[0mmin\u001b[0m\u001b[0;34m(\u001b[0m\u001b[0md_x\u001b[0m\u001b[0;34m,\u001b[0m \u001b[0ml\u001b[0m\u001b[0;34m[\u001b[0m\u001b[0mi\u001b[0m\u001b[0;34m]\u001b[0m\u001b[0;34m.\u001b[0m\u001b[0mshape\u001b[0m\u001b[0;34m[\u001b[0m\u001b[0;36m1\u001b[0m\u001b[0;34m]\u001b[0m\u001b[0;34m)\u001b[0m\u001b[0;34m\u001b[0m\u001b[0;34m\u001b[0m\u001b[0m\n\u001b[1;32m     14\u001b[0m \u001b[0;34m\u001b[0m\u001b[0m\n\u001b[0;32m---> 15\u001b[0;31m         \u001b[0mout\u001b[0m\u001b[0;34m[\u001b[0m\u001b[0;36m0\u001b[0m\u001b[0;34m:\u001b[0m\u001b[0mc_d_y\u001b[0m\u001b[0;34m,\u001b[0m\u001b[0;36m0\u001b[0m\u001b[0;34m:\u001b[0m\u001b[0mc_d_x\u001b[0m\u001b[0;34m,\u001b[0m\u001b[0mi\u001b[0m\u001b[0;34m]\u001b[0m \u001b[0;34m=\u001b[0m \u001b[0ml\u001b[0m\u001b[0;34m[\u001b[0m\u001b[0mi\u001b[0m\u001b[0;34m]\u001b[0m\u001b[0;34m[\u001b[0m\u001b[0;36m0\u001b[0m\u001b[0;34m:\u001b[0m\u001b[0mc_d_y\u001b[0m\u001b[0;34m,\u001b[0m\u001b[0;36m0\u001b[0m\u001b[0;34m:\u001b[0m\u001b[0mc_d_x\u001b[0m\u001b[0;34m,\u001b[0m\u001b[0;36m0\u001b[0m\u001b[0;34m]\u001b[0m\u001b[0;34m\u001b[0m\u001b[0;34m\u001b[0m\u001b[0m\n\u001b[0m\u001b[1;32m     16\u001b[0m \u001b[0;34m\u001b[0m\u001b[0m\n\u001b[1;32m     17\u001b[0m     \u001b[0;32mreturn\u001b[0m \u001b[0mout\u001b[0m\u001b[0;34m\u001b[0m\u001b[0;34m\u001b[0m\u001b[0m\n",
      "\u001b[0;31mValueError\u001b[0m: could not broadcast input array from shape (25,27,1) into shape (25,27)"
     ]
    }
   ],
   "source": [
    "for key, val in image_data.items():\n",
    "    ### plot\n",
    "    if len(symp_i_patches) > 0:\n",
    "        symp_i_patches_a = list_to_array(symp_i_patches)\n",
    "        view(symp_i_patches_a, symp_i_patches_a, vmin=0, vmax=1, alpha=0, title=d+' symp.' )\n",
    "    else:\n",
    "        print(key, 'no symp plaque')\n",
    "\n",
    "    if len(asymp_i_patches) > 0:\n",
    "        asymp_i_patches_a = list_to_array(asymp_i_patches)\n",
    "        view(asymp_i_patches_a, asymp_i_patches_a, vmin=0, vmax=1, alpha=0, title=d+' asymp.' )\n",
    "    else:\n",
    "        print(key, 'no asymp plaque')"
   ]
  },
  {
   "cell_type": "code",
   "execution_count": null,
   "id": "9c840343",
   "metadata": {},
   "outputs": [],
   "source": []
  },
  {
   "cell_type": "code",
   "execution_count": null,
   "id": "4e95c869",
   "metadata": {},
   "outputs": [],
   "source": []
  }
 ],
 "metadata": {
  "kernelspec": {
   "display_name": "Python 3 (ipykernel)",
   "language": "python",
   "name": "python3"
  },
  "language_info": {
   "codemirror_mode": {
    "name": "ipython",
    "version": 3
   },
   "file_extension": ".py",
   "mimetype": "text/x-python",
   "name": "python",
   "nbconvert_exporter": "python",
   "pygments_lexer": "ipython3",
   "version": "3.9.7"
  }
 },
 "nbformat": 4,
 "nbformat_minor": 5
}
