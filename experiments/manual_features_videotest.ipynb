{
 "cells": [
  {
   "cell_type": "code",
   "execution_count": 1,
   "metadata": {},
   "outputs": [],
   "source": [
    "import cactas as C"
   ]
  },
  {
   "cell_type": "code",
   "execution_count": 2,
   "metadata": {},
   "outputs": [],
   "source": [
    "from upenn_plaque_features_oo_v1 import PlaqueFeatures as p"
   ]
  },
  {
   "cell_type": "code",
   "execution_count": 3,
   "metadata": {},
   "outputs": [],
   "source": [
    "data = '/raid/mpsych/CACTAS/DATA/ESUS/13.seg.nrrd'"
   ]
  },
  {
   "cell_type": "code",
   "execution_count": 4,
   "metadata": {},
   "outputs": [],
   "source": [
    "test = p(data)"
   ]
  },
  {
   "cell_type": "code",
   "execution_count": 5,
   "metadata": {},
   "outputs": [
    {
     "name": "stdout",
     "output_type": "stream",
     "text": [
      "List of all available methods and their functions:\n",
      "\n",
      "newData(datapath) : Replaces input data with the new dataset and re-runs setup.\n",
      "setRound(integer) : Set the number of decimal places to round output to. Default is 3.\n",
      "\n",
      "pInfo(plaquenumber) : Prints all data for a specified plaque.\n",
      "pInfoAll() : Prints all data for each plaque.\n",
      "pInfoL() : Prints all data for plaque on the left side.\n",
      "pInfoR() : Prints all data for plaque on the right side.\n",
      "\n",
      "pCount() : Returns the total number of plaque.\n",
      "pCountL() : Returns the number of plaque on the left side.\n",
      "pCountR() : Returns the number of plaque on the right side.\n",
      "\n",
      "pVox(plaquenumber) : Returns the number of voxels for a specified plaque.\n",
      "pVoxAll() : Prints the number of voxels of each plaque.\n",
      "pVoxL() : Prints the number of voxels for plaque on the left side.\n",
      "pVoxR() : Prints the number of voxels for plaque on the right side.\n",
      "pVoxLTot() : Returns the total number of plaque voxels on the left side.\n",
      "pVoxRTot() : Returns the total number of plaque voxels on the right side.\n",
      "pVoxTot() : Returns the total number of plaque voxels.\n",
      "\n",
      "dataVoxTot() : Returns the total number of voxels in the dataset.\n",
      "dataDim() : Returns the dimensions of the dataset (the shape).\n",
      "\n",
      "Note on volume calculations: Outputs are in mm3. To convert to cm3, divide by 1000.\n",
      "pVol(plaquenumber) : Returns the volume of a specified plaque.\n",
      "pVolAll() : Prints the volume of each plaque.\n",
      "pVolL() : Prints the volume of each plaque on the left side.\n",
      "pVolR() : Prints the volume of each plaque on the right side.\n",
      "pVolLTot() : Returns the total plaque volume of the left side.\n",
      "pVolRTot() : Returns the total plaque volume of the right side.\n",
      "pVolTot() : Returns the total plaque volume.\n",
      "\n",
      "Note on size measurements: Outputs are in mm, measured from the lowest to the highest point of the plaque on a 3D Cartesian plane.\n",
      "They are in Axial (left to right, y-axis), Sagittal (front to back, x-axis), and Coronal (top down, z-axis) plane order.\n",
      "pSize(plaquenumber) : Returns a list of the measurements of the specified plaque in y, x, z order.\n",
      "pSizeAll() : Prints the measurements for each plaque.\n",
      "pSizeL() : Prints the measurements for each plaque on the left side.\n",
      "pSizeR() : Prints the measurements for each plaque on the right side.\n"
     ]
    }
   ],
   "source": [
    "test.help()"
   ]
  },
  {
   "cell_type": "code",
   "execution_count": 6,
   "metadata": {
    "scrolled": true
   },
   "outputs": [
    {
     "name": "stdout",
     "output_type": "stream",
     "text": [
      "Total number of plaque: 7\n",
      "\n",
      "Plaque #1 (Right) voxels: 140\n",
      "Plaque #2 (Right) voxels: 19\n",
      "Plaque #3 (Right) voxels: 15\n",
      "Plaque #4 (Right) voxels: 33\n",
      "Plaque #5 (Left) voxels: 1\n",
      "Plaque #6 (Left) voxels: 251\n",
      "Plaque #7 (Left) voxels: 91\n",
      "Total number of plaque voxels: 550\n",
      "Total number of voxels in dataset: 65536000\n",
      "\n",
      "Plaque #1 (Right) volume: 79.488mm3\n",
      "Plaque #2 (Right) volume: 10.788mm3\n",
      "Plaque #3 (Right) volume: 8.517mm3\n",
      "Plaque #4 (Right) volume: 18.736mm3\n",
      "Plaque #5 (Left) volume: 0.568mm3\n",
      "Plaque #6 (Left) volume: 142.51mm3\n",
      "Plaque #7 (Left) volume: 51.667mm3\n",
      "Total plaque volume: 312.274mm3\n",
      "\n",
      "Plaque #1 (Right):\n",
      "Width (axial plane, y-axis): 4.307mm\n",
      "Depth (sagittal plane, x-axis): 9.229mm\n",
      "Height (coronal plane, z-axis): 16.5mm\n",
      "Plaque #2 (Right):\n",
      "Width (axial plane, y-axis): 1.846mm\n",
      "Depth (sagittal plane, x-axis): 3.691mm\n",
      "Height (coronal plane, z-axis): 3.0mm\n",
      "Plaque #3 (Right):\n",
      "Width (axial plane, y-axis): 2.461mm\n",
      "Depth (sagittal plane, x-axis): 2.461mm\n",
      "Height (coronal plane, z-axis): 4.5mm\n",
      "Plaque #4 (Right):\n",
      "Width (axial plane, y-axis): 1.846mm\n",
      "Depth (sagittal plane, x-axis): 4.307mm\n",
      "Height (coronal plane, z-axis): 4.5mm\n",
      "Plaque #5 (Left):\n",
      "Width (axial plane, y-axis): 0.615mm\n",
      "Depth (sagittal plane, x-axis): 0.615mm\n",
      "Height (coronal plane, z-axis): 1.5mm\n",
      "Plaque #6 (Left):\n",
      "Width (axial plane, y-axis): 9.229mm\n",
      "Depth (sagittal plane, x-axis): 7.383mm\n",
      "Height (coronal plane, z-axis): 15.0mm\n",
      "Plaque #7 (Left):\n",
      "Width (axial plane, y-axis): 6.152mm\n",
      "Depth (sagittal plane, x-axis): 3.691mm\n",
      "Height (coronal plane, z-axis): 9.0mm\n",
      "\n",
      "Dimensions of input dataset: (512, 512, 250)\n"
     ]
    }
   ],
   "source": [
    "test.pInfoAll()"
   ]
  },
  {
   "cell_type": "code",
   "execution_count": 7,
   "metadata": {},
   "outputs": [
    {
     "data": {
      "text/plain": [
       "19"
      ]
     },
     "execution_count": 7,
     "metadata": {},
     "output_type": "execute_result"
    }
   ],
   "source": [
    "test.pVox(2)"
   ]
  },
  {
   "cell_type": "code",
   "execution_count": 8,
   "metadata": {},
   "outputs": [
    {
     "data": {
      "text/plain": [
       "10.788"
      ]
     },
     "execution_count": 8,
     "metadata": {},
     "output_type": "execute_result"
    }
   ],
   "source": [
    "test.pVol(2)"
   ]
  },
  {
   "cell_type": "code",
   "execution_count": 9,
   "metadata": {
    "scrolled": true
   },
   "outputs": [
    {
     "data": {
      "text/plain": [
       "[1.846, 3.691, 3.0]"
      ]
     },
     "execution_count": 9,
     "metadata": {},
     "output_type": "execute_result"
    }
   ],
   "source": [
    "test.pSize(2)"
   ]
  },
  {
   "cell_type": "code",
   "execution_count": 10,
   "metadata": {},
   "outputs": [
    {
     "data": {
      "text/plain": [
       "7"
      ]
     },
     "execution_count": 10,
     "metadata": {},
     "output_type": "execute_result"
    }
   ],
   "source": [
    "test.pCount()"
   ]
  },
  {
   "cell_type": "code",
   "execution_count": 11,
   "metadata": {},
   "outputs": [
    {
     "name": "stdout",
     "output_type": "stream",
     "text": [
      "Values will now be rounded to 5 decimal places.\n"
     ]
    }
   ],
   "source": [
    "test.setRound(5)"
   ]
  },
  {
   "cell_type": "code",
   "execution_count": 12,
   "metadata": {},
   "outputs": [
    {
     "data": {
      "text/plain": [
       "10.78763"
      ]
     },
     "execution_count": 12,
     "metadata": {},
     "output_type": "execute_result"
    }
   ],
   "source": [
    "test.pVol(2)"
   ]
  },
  {
   "cell_type": "code",
   "execution_count": 13,
   "metadata": {},
   "outputs": [
    {
     "data": {
      "text/plain": [
       "[1.8457, 3.69141, 3.0]"
      ]
     },
     "execution_count": 13,
     "metadata": {},
     "output_type": "execute_result"
    }
   ],
   "source": [
    "test.pSize(2)"
   ]
  },
  {
   "cell_type": "code",
   "execution_count": 14,
   "metadata": {},
   "outputs": [],
   "source": [
    "data2 = '/raid/mpsych/CACTAS/DATA/ESUS/12.seg.nrrd'"
   ]
  },
  {
   "cell_type": "code",
   "execution_count": 15,
   "metadata": {},
   "outputs": [],
   "source": [
    "test.newData(data2)"
   ]
  },
  {
   "cell_type": "code",
   "execution_count": 16,
   "metadata": {},
   "outputs": [
    {
     "name": "stdout",
     "output_type": "stream",
     "text": [
      "Total number of plaque: 4\n",
      "\n",
      "Plaque #1 (Right) voxels: 233\n",
      "Plaque #2 (Right) voxels: 50\n",
      "Plaque #3 (Left) voxels: 159\n",
      "Plaque #4 (Left) voxels: 3\n",
      "Total number of plaque voxels: 445\n",
      "Total number of voxels in dataset: 58195968\n",
      "\n",
      "Plaque #1 (Right) volume: 103.03786mm3\n",
      "Plaque #2 (Right) volume: 22.11113mm3\n",
      "Plaque #3 (Left) volume: 70.31339mm3\n",
      "Plaque #4 (Left) volume: 1.32667mm3\n",
      "Total plaque volume: 196.78905mm3\n",
      "\n",
      "Plaque #1 (Right):\n",
      "Width (axial plane, y-axis): 7.05859mm\n",
      "Depth (sagittal plane, x-axis): 5.97266mm\n",
      "Height (coronal plane, z-axis): 9.0mm\n",
      "Plaque #2 (Right):\n",
      "Width (axial plane, y-axis): 4.88672mm\n",
      "Depth (sagittal plane, x-axis): 4.34375mm\n",
      "Height (coronal plane, z-axis): 4.5mm\n",
      "Plaque #3 (Left):\n",
      "Width (axial plane, y-axis): 7.05859mm\n",
      "Depth (sagittal plane, x-axis): 4.88672mm\n",
      "Height (coronal plane, z-axis): 7.5mm\n",
      "Plaque #4 (Left):\n",
      "Width (axial plane, y-axis): 0.54297mm\n",
      "Depth (sagittal plane, x-axis): 1.62891mm\n",
      "Height (coronal plane, z-axis): 1.5mm\n",
      "\n",
      "Dimensions of input dataset: (512, 512, 222)\n"
     ]
    }
   ],
   "source": [
    "test.pInfoAll()"
   ]
  },
  {
   "cell_type": "code",
   "execution_count": 17,
   "metadata": {},
   "outputs": [
    {
     "data": {
      "text/plain": [
       "233"
      ]
     },
     "execution_count": 17,
     "metadata": {},
     "output_type": "execute_result"
    }
   ],
   "source": [
    "test.pVox(1)"
   ]
  },
  {
   "cell_type": "code",
   "execution_count": 18,
   "metadata": {},
   "outputs": [
    {
     "data": {
      "text/plain": [
       "103.03786"
      ]
     },
     "execution_count": 18,
     "metadata": {},
     "output_type": "execute_result"
    }
   ],
   "source": [
    "test.pVol(1)"
   ]
  },
  {
   "cell_type": "code",
   "execution_count": 19,
   "metadata": {},
   "outputs": [
    {
     "data": {
      "text/plain": [
       "[7.05859, 5.97266, 9.0]"
      ]
     },
     "execution_count": 19,
     "metadata": {},
     "output_type": "execute_result"
    }
   ],
   "source": [
    "test.pSize(1)"
   ]
  },
  {
   "cell_type": "code",
   "execution_count": 20,
   "metadata": {},
   "outputs": [
    {
     "name": "stdout",
     "output_type": "stream",
     "text": [
      "Values will now be rounded to 3 decimal places.\n"
     ]
    }
   ],
   "source": [
    "test.setRound(3)"
   ]
  },
  {
   "cell_type": "code",
   "execution_count": 21,
   "metadata": {},
   "outputs": [
    {
     "data": {
      "text/plain": [
       "[7.059, 5.973, 9.0]"
      ]
     },
     "execution_count": 21,
     "metadata": {},
     "output_type": "execute_result"
    }
   ],
   "source": [
    "test.pSize(1)"
   ]
  }
 ],
 "metadata": {
  "kernelspec": {
   "display_name": "Python 3 (ipykernel)",
   "language": "python",
   "name": "python3"
  },
  "language_info": {
   "codemirror_mode": {
    "name": "ipython",
    "version": 3
   },
   "file_extension": ".py",
   "mimetype": "text/x-python",
   "name": "python",
   "nbconvert_exporter": "python",
   "pygments_lexer": "ipython3",
   "version": "3.10.8"
  },
  "vscode": {
   "interpreter": {
    "hash": "b0fa6594d8f4cbf19f97940f81e996739fb7646882a419484c72d19e05852a7e"
   }
  }
 },
 "nbformat": 4,
 "nbformat_minor": 2
}
