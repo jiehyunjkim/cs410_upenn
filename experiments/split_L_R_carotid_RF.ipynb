{
 "cells": [
  {
   "cell_type": "code",
   "execution_count": 1,
   "id": "e0b035e5",
   "metadata": {},
   "outputs": [
    {
     "name": "stdout",
     "output_type": "stream",
     "text": [
      "Populating the interactive namespace from numpy and matplotlib\n"
     ]
    }
   ],
   "source": [
    "%pylab inline\n",
    "%load_ext autoreload\n",
    "%autoreload 2"
   ]
  },
  {
   "cell_type": "code",
   "execution_count": 2,
   "id": "ad9b227c",
   "metadata": {},
   "outputs": [],
   "source": [
    "import os\n",
    "import mahotas as mh\n",
    "import json"
   ]
  },
  {
   "cell_type": "code",
   "execution_count": 3,
   "id": "c604fc52",
   "metadata": {},
   "outputs": [
    {
     "name": "stderr",
     "output_type": "stream",
     "text": [
      "/home/jiehyun.kim001/miniconda3/envs/O/lib/python3.9/site-packages/scipy/__init__.py:146: UserWarning: A NumPy version >=1.16.5 and <1.23.0 is required for this version of SciPy (detected version 1.23.4\n",
      "  warnings.warn(f\"A NumPy version >={np_minversion} and <{np_maxversion}\"\n"
     ]
    }
   ],
   "source": [
    "import cactas as C"
   ]
  },
  {
   "cell_type": "code",
   "execution_count": 4,
   "id": "fac26642",
   "metadata": {},
   "outputs": [],
   "source": [
    "DATAPATH = '/raid/mpsych/CACTAS/DATA/ESUS/'"
   ]
  },
  {
   "cell_type": "code",
   "execution_count": 5,
   "id": "47b09059",
   "metadata": {},
   "outputs": [],
   "source": [
    "with open(\"image_data_v3.json\", \"r\") as fp:\n",
    "    image_data = json.load(fp)\n",
    "with open(\"label_data_v3.json\", \"r\") as fp:\n",
    "    label_data = json.load(fp)"
   ]
  },
  {
   "cell_type": "code",
   "execution_count": 6,
   "id": "c782cf7e",
   "metadata": {},
   "outputs": [],
   "source": [
    "with open(DATAPATH+'../ESUS_stroke_side.csv', 'r') as f:\n",
    "    stroke_sides = f.read().replace('ESUS ','').split('\\n')\n",
    "\n",
    "STROKE_SIDES = {}\n",
    "    \n",
    "for l in stroke_sides[1:]:\n",
    "    l_s = l.split(',')\n",
    "    \n",
    "    if len(l_s) != 5:\n",
    "        continue\n",
    "    \n",
    "    id_ = l_s[0]\n",
    "    age = l_s[1]\n",
    "    sex = l_s[2]\n",
    "    race = l_s[3]\n",
    "    side = l_s[4]\n",
    "    STROKE_SIDES[id_] = side"
   ]
  },
  {
   "cell_type": "code",
   "execution_count": 7,
   "id": "b8598157",
   "metadata": {},
   "outputs": [],
   "source": [
    "images, labels = C.Util.load(DATAPATH)"
   ]
  },
  {
   "cell_type": "code",
   "execution_count": 8,
   "id": "a17d6da1",
   "metadata": {},
   "outputs": [],
   "source": [
    "for key, val in image_data.items():\n",
    "    stroke_side = STROKE_SIDES[key]\n",
    "    #print('file name', key)\n",
    "    #print('Stroke side', stroke_side)"
   ]
  },
  {
   "cell_type": "code",
   "execution_count": 9,
   "id": "d4af0073",
   "metadata": {},
   "outputs": [],
   "source": [
    "# normalize grayscale to 0..1\n",
    "images, labels = C.Util.normalize(images, labels)\n",
    "\n",
    "# for each scan\n",
    "symp_i_patches = []\n",
    "symp_l_patches = []\n",
    "asymp_i_patches = []\n",
    "asymp_l_patches = []\n",
    "\n",
    "P=28"
   ]
  },
  {
   "cell_type": "code",
   "execution_count": 10,
   "id": "5db40693",
   "metadata": {},
   "outputs": [
    {
     "data": {
      "text/plain": [
       "(766, 512, 512, 1)"
      ]
     },
     "execution_count": 10,
     "metadata": {},
     "output_type": "execute_result"
    }
   ],
   "source": [
    "images.shape"
   ]
  },
  {
   "cell_type": "code",
   "execution_count": 11,
   "id": "345dbe61",
   "metadata": {},
   "outputs": [
    {
     "data": {
      "text/plain": [
       "(766, 512, 512, 1)"
      ]
     },
     "execution_count": 11,
     "metadata": {},
     "output_type": "execute_result"
    }
   ],
   "source": [
    "labels.shape"
   ]
  },
  {
   "cell_type": "code",
   "execution_count": null,
   "id": "773af218",
   "metadata": {},
   "outputs": [],
   "source": []
  },
  {
   "cell_type": "code",
   "execution_count": 12,
   "id": "c21ae1d3",
   "metadata": {},
   "outputs": [],
   "source": [
    "# Crop"
   ]
  },
  {
   "cell_type": "code",
   "execution_count": 13,
   "id": "a136faa6",
   "metadata": {},
   "outputs": [],
   "source": [
    "cropped_label = []\n",
    "cropped_image = []"
   ]
  },
  {
   "cell_type": "code",
   "execution_count": 14,
   "id": "ac8d2acd",
   "metadata": {},
   "outputs": [],
   "source": [
    "# for each scan\n",
    "symp_i_patches = []\n",
    "symp_l_patches = []\n",
    "asymp_i_patches = []\n",
    "asymp_l_patches = []"
   ]
  },
  {
   "cell_type": "code",
   "execution_count": 15,
   "id": "18e9ee5e",
   "metadata": {},
   "outputs": [],
   "source": [
    "from skimage.filters import threshold_otsu"
   ]
  },
  {
   "cell_type": "code",
   "execution_count": 16,
   "id": "36de5eb3",
   "metadata": {},
   "outputs": [],
   "source": [
    "data = {}\n",
    "count = 0\n",
    "ids = []"
   ]
  },
  {
   "cell_type": "code",
   "execution_count": 17,
   "id": "a7e12db1",
   "metadata": {},
   "outputs": [],
   "source": [
    "datas = {}\n",
    "counts = 0"
   ]
  },
  {
   "cell_type": "code",
   "execution_count": 18,
   "id": "a4b900b5",
   "metadata": {},
   "outputs": [
    {
     "name": "stdout",
     "output_type": "stream",
     "text": [
      "7\n"
     ]
    }
   ],
   "source": [
    "print(list(image_data.keys())[list(image_data.values()).index(36)]) "
   ]
  },
  {
   "cell_type": "code",
   "execution_count": 19,
   "id": "92830bdb",
   "metadata": {},
   "outputs": [
    {
     "data": {
      "text/plain": [
       "dict_items([('2', 0), ('5', 10), ('6', 17), ('7', 36), ('9', 54), ('10', 64), ('12', 77), ('13', 87), ('14', 114), ('15', 121), ('16', 126), ('17', 149), ('18', 169), ('21', 190), ('22', 201), ('23', 221), ('24', 242), ('25', 246), ('26', 265), ('27', 276), ('29', 282), ('31', 305), ('32', 328), ('33', 335), ('35', 343), ('36', 346), ('39', 351), ('40', 357), ('41', 362), ('45', 365), ('46', 374), ('47', 376), ('48', 384), ('49', 407), ('50', 423), ('51', 432), ('52', 470), ('53', 474), ('57', 479), ('61', 491), ('62', 499), ('63', 509), ('64', 518), ('66', 522), ('69', 527), ('71', 532), ('72', 545), ('73', 560), ('75', 568), ('77', 579), ('79', 586), ('82', 596), ('83', 609), ('84', 619), ('86', 625), ('87', 631), ('88', 643), ('90', 657), ('91', 675), ('92', 684), ('93', 725), ('94', 729), ('96', 735), ('97', 752)])"
      ]
     },
     "execution_count": 19,
     "metadata": {},
     "output_type": "execute_result"
    }
   ],
   "source": [
    "image_data.items()"
   ]
  },
  {
   "cell_type": "code",
   "execution_count": 20,
   "id": "e571329e",
   "metadata": {},
   "outputs": [
    {
     "name": "stdout",
     "output_type": "stream",
     "text": [
      "[2, 5, 6, 7, 9, 10, 12, 13, 14, 15, 16, 17, 18, 21, 22, 23, 24, 25, 26, 27, 29, 31, 32, 33, 35, 36, 39, 40, 41, 45, 46, 47, 48, 49, 50, 51, 52, 53, 57, 61, 62, 63, 64, 66, 69, 71, 72, 73, 75, 77, 79, 82, 83, 84, 86, 87, 88, 90, 91, 92, 93, 94, 96, 97]\n"
     ]
    }
   ],
   "source": [
    "for f in os.listdir(DATAPATH):\n",
    "    if f.endswith('.img.nrrd'):\n",
    "        current_id = f.split('.')[0]\n",
    "        ids += [int(current_id)]\n",
    "        ids = sorted(ids)\n",
    "\n",
    "print(ids)"
   ]
  },
  {
   "cell_type": "code",
   "execution_count": 32,
   "id": "c963daf9",
   "metadata": {},
   "outputs": [],
   "source": [
    "symp_data = {}  \n",
    "asymp_data = {}\n",
    "patient_id = ''  \n",
    "count = 0\n",
    "counts = 0\n",
    "\n",
    "for i in range(labels.shape[0]):\n",
    "    thresh = threshold_otsu(labels[i])\n",
    "    binary = labels[i] > (0.5 * thresh)\n",
    "    relabel, obj = mh.label(binary)\n",
    "\n",
    "    #print(f\"Number of objects in image {i}: {obj}\")\n",
    "\n",
    "    for j in range(1, relabel.max()+1):\n",
    "        single_label = np.zeros((relabel.shape), relabel.dtype)\n",
    "        single_label[relabel == j] = 1\n",
    "\n",
    "        bbox = mh.bbox(single_label)\n",
    "        #print(bbox)\n",
    "\n",
    "        location = ''\n",
    "        if (512-bbox[0] < 256):\n",
    "            location = 'L' # patient view\n",
    "        else:\n",
    "            location = 'R' # patient view\n",
    "\n",
    "\n",
    "        increase_x = 10\n",
    "        increase_y = 10\n",
    "        increase_z = 0\n",
    "        target_size = P\n",
    "\n",
    "\n",
    "        if target_size:\n",
    "            widthY = bbox[1]-bbox[0]\n",
    "            widthX = bbox[3]-bbox[2]\n",
    "            #print(widthY)\n",
    "            #print(widthX)\n",
    "\n",
    "            increase_x = (target_size - widthX) // 2\n",
    "            increase_y = (target_size - widthY) // 2\n",
    "\n",
    "            #print(bbox)\n",
    "            #print(widthY, widthX, increase_x, increase_y)\n",
    "\n",
    "            bufferY = 0\n",
    "            if (bbox[0]-increase_y + bbox[1]+increase_y) != target_size:\n",
    "                bufferY = 1\n",
    "\n",
    "            bufferX = 0\n",
    "            if (bbox[2]-increase_x + bbox[3]+increase_x) != target_size:\n",
    "                bufferX = 1\n",
    "\n",
    "        # crop label and image according to bbox but make it a little larger\n",
    "        label_cropped = labels[i][bbox[0]-increase_y:bbox[1]+increase_y+bufferY,\n",
    "                               bbox[2]-increase_x:bbox[3]+increase_x+bufferX]\n",
    "        image_cropped = images[i][bbox[0]-increase_y:bbox[1]+increase_y+bufferY,\n",
    "                               bbox[2]-increase_x:bbox[3]+increase_x+bufferX]\n",
    "        \n",
    "\n",
    "        #cropped_label.append(label_cropped)\n",
    "        #cropped_image.append(image_cropped)\n",
    "        \n",
    "        \n",
    "        for k, v in image_data.items():\n",
    "            if i >= v:\n",
    "                patient_id = k\n",
    "            else:\n",
    "                break\n",
    "\n",
    "\n",
    "        if location == stroke_side:\n",
    "            if patient_id in symp_data:\n",
    "                #symp_data[patient_id] = {'symp': [count], 'asymp': []}\n",
    "                symp_i_patches.append(image_cropped)\n",
    "                symp_l_patches.append(label_cropped)\n",
    "                count += 1\n",
    "            else:\n",
    "                symp_data[patient_id] = count\n",
    "                symp_i_patches.append(image_cropped)\n",
    "                symp_l_patches.append(label_cropped)\n",
    "                count += 1\n",
    "        else:\n",
    "            if patient_id in asymp_data:\n",
    "                #asymp_data[patient_id] = {'symp': [], 'asymp': [counts]}\n",
    "                symp_i_patches.append(image_cropped)\n",
    "                symp_l_patches.append(label_cropped)\n",
    "                counts += 1\n",
    "            else:\n",
    "                asymp_data[patient_id] = counts\n",
    "                symp_i_patches.append(image_cropped)\n",
    "                symp_l_patches.append(label_cropped)\n",
    "                counts += 1\n",
    "\n",
    "\n",
    "        '''\n",
    "        if patient_id in patient_data:\n",
    "            if location == stroke_side:\n",
    "                patient_data[patient_id]['symp'].append(count)\n",
    "                symp_i_patches.append(image_cropped)\n",
    "                symp_l_patches.append(label_cropped)\n",
    "                count += 1\n",
    "            else:\n",
    "                patient_data[patient_id]['asymp'].append(counts)\n",
    "                asymp_i_patches.append(image_cropped)\n",
    "                asymp_l_patches.append(label_cropped)\n",
    "                counts += 1\n",
    "        else:\n",
    "            if location == stroke_side:\n",
    "                patient_data[patient_id] = {'symp': [count], 'asymp': []}\n",
    "                symp_i_patches.append(image_cropped)\n",
    "                symp_l_patches.append(label_cropped)\n",
    "                count += 1\n",
    "            else:\n",
    "                patient_data[patient_id] = {'symp': [], 'asymp': [counts]}\n",
    "                asymp_i_patches.append(image_cropped)\n",
    "                asymp_l_patches.append(label_cropped)\n",
    "                counts += 1\n",
    "        '''"
   ]
  },
  {
   "cell_type": "code",
   "execution_count": 33,
   "id": "7fa648ce",
   "metadata": {},
   "outputs": [
    {
     "data": {
      "text/plain": [
       "{'2': 0,\n",
       " '5': 4,\n",
       " '6': 12,\n",
       " '7': 27,\n",
       " '9': 45,\n",
       " '10': 67,\n",
       " '12': 81,\n",
       " '13': 89,\n",
       " '14': 107,\n",
       " '15': 113,\n",
       " '16': 118,\n",
       " '18': 137,\n",
       " '21': 157,\n",
       " '22': 168,\n",
       " '23': 176,\n",
       " '24': 200,\n",
       " '25': 203,\n",
       " '26': 220,\n",
       " '29': 233,\n",
       " '31': 245,\n",
       " '32': 271,\n",
       " '33': 281,\n",
       " '35': 285,\n",
       " '36': 287,\n",
       " '39': 292,\n",
       " '40': 303,\n",
       " '41': 308,\n",
       " '45': 311,\n",
       " '47': 313,\n",
       " '48': 315,\n",
       " '49': 346,\n",
       " '50': 371,\n",
       " '51': 381,\n",
       " '52': 398,\n",
       " '53': 401,\n",
       " '57': 406,\n",
       " '61': 412,\n",
       " '62': 419,\n",
       " '63': 428,\n",
       " '64': 432,\n",
       " '69': 436,\n",
       " '71': 440,\n",
       " '72': 455,\n",
       " '73': 461,\n",
       " '75': 470,\n",
       " '77': 477,\n",
       " '79': 487,\n",
       " '82': 503,\n",
       " '83': 520,\n",
       " '84': 527,\n",
       " '86': 533,\n",
       " '87': 538,\n",
       " '88': 558,\n",
       " '90': 577,\n",
       " '91': 607,\n",
       " '92': 611,\n",
       " '94': 676,\n",
       " '96': 682,\n",
       " '97': 689}"
      ]
     },
     "execution_count": 33,
     "metadata": {},
     "output_type": "execute_result"
    }
   ],
   "source": [
    "symp_data"
   ]
  },
  {
   "cell_type": "code",
   "execution_count": 34,
   "id": "610b99e0",
   "metadata": {},
   "outputs": [
    {
     "data": {
      "text/plain": [
       "{'2': 0,\n",
       " '6': 10,\n",
       " '7': 42,\n",
       " '12': 53,\n",
       " '13': 66,\n",
       " '14': 89,\n",
       " '16': 98,\n",
       " '17': 119,\n",
       " '18': 161,\n",
       " '21': 188,\n",
       " '22': 212,\n",
       " '23': 245,\n",
       " '24': 256,\n",
       " '25': 259,\n",
       " '26': 281,\n",
       " '27': 294,\n",
       " '29': 300,\n",
       " '31': 326,\n",
       " '33': 352,\n",
       " '35': 359,\n",
       " '36': 360,\n",
       " '39': 363,\n",
       " '40': 367,\n",
       " '45': 372,\n",
       " '46': 384,\n",
       " '47': 386,\n",
       " '49': 397,\n",
       " '50': 410,\n",
       " '51': 435,\n",
       " '52': 477,\n",
       " '57': 478,\n",
       " '61': 486,\n",
       " '62': 491,\n",
       " '63': 501,\n",
       " '66': 511,\n",
       " '69': 516,\n",
       " '71': 523,\n",
       " '72': 538,\n",
       " '75': 553,\n",
       " '77': 561,\n",
       " '79': 569,\n",
       " '82': 581,\n",
       " '83': 592,\n",
       " '84': 595,\n",
       " '86': 598,\n",
       " '87': 600,\n",
       " '88': 607,\n",
       " '90': 612,\n",
       " '91': 623,\n",
       " '92': 632,\n",
       " '93': 693,\n",
       " '96': 697,\n",
       " '97': 710}"
      ]
     },
     "execution_count": 34,
     "metadata": {},
     "output_type": "execute_result"
    }
   ],
   "source": [
    "asymp_data"
   ]
  },
  {
   "cell_type": "code",
   "execution_count": 36,
   "id": "24125c41",
   "metadata": {},
   "outputs": [],
   "source": [
    "#with open(\"symp_data.json\", \"w\") as fp:\n",
    "#    json.dump(symp_data, fp) "
   ]
  },
  {
   "cell_type": "code",
   "execution_count": 37,
   "id": "dac6ae8b",
   "metadata": {},
   "outputs": [],
   "source": [
    "#with open(\"asymp_data.json\", \"w\") as fp:\n",
    "#    json.dump(asymp_data, fp) "
   ]
  },
  {
   "cell_type": "code",
   "execution_count": null,
   "id": "fbe2a76c",
   "metadata": {},
   "outputs": [],
   "source": []
  },
  {
   "cell_type": "code",
   "execution_count": null,
   "id": "a8594a3b",
   "metadata": {},
   "outputs": [],
   "source": []
  },
  {
   "cell_type": "code",
   "execution_count": 23,
   "id": "e21ed090",
   "metadata": {},
   "outputs": [
    {
     "data": {
      "text/plain": [
       "(704, 704)"
      ]
     },
     "execution_count": 23,
     "metadata": {},
     "output_type": "execute_result"
    }
   ],
   "source": [
    "len(symp_i_patches), len(symp_l_patches) #704"
   ]
  },
  {
   "cell_type": "code",
   "execution_count": 24,
   "id": "f96eb767",
   "metadata": {},
   "outputs": [
    {
     "data": {
      "text/plain": [
       "(713, 713)"
      ]
     },
     "execution_count": 24,
     "metadata": {},
     "output_type": "execute_result"
    }
   ],
   "source": [
    "len(asymp_i_patches), len(asymp_l_patches) # 713"
   ]
  },
  {
   "cell_type": "code",
   "execution_count": 25,
   "id": "b9a95b15",
   "metadata": {},
   "outputs": [
    {
     "data": {
      "text/plain": [
       "1417"
      ]
     },
     "execution_count": 25,
     "metadata": {},
     "output_type": "execute_result"
    }
   ],
   "source": [
    "len(symp_i_patches) + len(asymp_i_patches)"
   ]
  },
  {
   "cell_type": "code",
   "execution_count": 26,
   "id": "ddaad288",
   "metadata": {},
   "outputs": [
    {
     "data": {
      "text/plain": [
       "(29, 29, 1)"
      ]
     },
     "execution_count": 26,
     "metadata": {},
     "output_type": "execute_result"
    }
   ],
   "source": [
    "symp_i_patches[0].shape"
   ]
  },
  {
   "cell_type": "code",
   "execution_count": null,
   "id": "cf3b4e30",
   "metadata": {},
   "outputs": [],
   "source": []
  },
  {
   "cell_type": "code",
   "execution_count": 21,
   "id": "4414e19e",
   "metadata": {},
   "outputs": [
    {
     "data": {
      "image/png": "[encoded data removed]",
      "text/plain": [
       "<Figure size 432x288 with 1 Axes>"
      ]
     },
     "metadata": {
      "needs_background": "light"
     },
     "output_type": "display_data"
    },
    {
     "data": {
      "image/png": "[encoded data removed]",
      "text/plain": [
       "<Figure size 432x288 with 1 Axes>"
      ]
     },
     "metadata": {
      "needs_background": "light"
     },
     "output_type": "display_data"
    },
    {
     "data": {
      "image/png": "[encoded data removed]",
      "text/plain": [
       "<Figure size 432x288 with 1 Axes>"
      ]
     },
     "metadata": {
      "needs_background": "light"
     },
     "output_type": "display_data"
    },
    {
     "data": {
      "image/png": "[encoded data removed]",
      "text/plain": [
       "<Figure size 432x288 with 1 Axes>"
      ]
     },
     "metadata": {
      "needs_background": "light"
     },
     "output_type": "display_data"
    },
    {
     "data": {
      "image/png": "[encoded data removed]",
      "text/plain": [
       "<Figure size 432x288 with 1 Axes>"
      ]
     },
     "metadata": {
      "needs_background": "light"
     },
     "output_type": "display_data"
    }
   ],
   "source": [
    "for i in range(5): # len(symp_i_patches)\n",
    "    #fig, (ax1, ax2) = plt.subplots(1, 2, figsize=(10, 5))\n",
    "    #ax1.imshow(symp_i_patches[i], cmap='gray')\n",
    "    #ax2.imshow(symp_l_patches[i])\n",
    "    plt.imshow(symp_i_patches[i])\n",
    "    plt.imshow(symp_l_patches[i], cmap='gray', alpha=0.5)\n",
    "    plt.show()"
   ]
  },
  {
   "cell_type": "code",
   "execution_count": 22,
   "id": "434a84c6",
   "metadata": {},
   "outputs": [
    {
     "data": {
      "image/png": "[encoded data removed]",
      "text/plain": [
       "<Figure size 432x288 with 1 Axes>"
      ]
     },
     "metadata": {
      "needs_background": "light"
     },
     "output_type": "display_data"
    },
    {
     "data": {
      "image/png": "[encoded data removed]",
      "text/plain": [
       "<Figure size 432x288 with 1 Axes>"
      ]
     },
     "metadata": {
      "needs_background": "light"
     },
     "output_type": "display_data"
    },
    {
     "data": {
      "image/png": "[encoded data removed]",
      "text/plain": [
       "<Figure size 432x288 with 1 Axes>"
      ]
     },
     "metadata": {
      "needs_background": "light"
     },
     "output_type": "display_data"
    },
    {
     "data": {
      "image/png": "[encoded data removed]",
      "text/plain": [
       "<Figure size 432x288 with 1 Axes>"
      ]
     },
     "metadata": {
      "needs_background": "light"
     },
     "output_type": "display_data"
    },
    {
     "data": {
      "image/png": "[encoded data removed]",
      "text/plain": [
       "<Figure size 432x288 with 1 Axes>"
      ]
     },
     "metadata": {
      "needs_background": "light"
     },
     "output_type": "display_data"
    }
   ],
   "source": [
    "for i in range(5):  # len(asymp_i_patches)\n",
    "    #fig, (ax1, ax2) = plt.subplots(1, 2, figsize=(10, 5))\n",
    "    #ax1.imshow(asymp_i_patches[i], cmap='gray')\n",
    "    #ax2.imshow(asymp_l_patches[i])\n",
    "    plt.imshow(asymp_i_patches[i])\n",
    "    plt.imshow(asymp_l_patches[i], cmap='gray', alpha=0.5)\n",
    "    plt.show()"
   ]
  },
  {
   "cell_type": "code",
   "execution_count": null,
   "id": "11be83c6",
   "metadata": {},
   "outputs": [],
   "source": []
  },
  {
   "cell_type": "code",
   "execution_count": null,
   "id": "f26ce7eb",
   "metadata": {},
   "outputs": [],
   "source": []
  },
  {
   "cell_type": "code",
   "execution_count": null,
   "id": "e721593a",
   "metadata": {},
   "outputs": [],
   "source": []
  },
  {
   "cell_type": "code",
   "execution_count": 23,
   "id": "4ec5b5e3",
   "metadata": {},
   "outputs": [],
   "source": [
    "def list_to_array(l):\n",
    "    count = len(l)\n",
    "\n",
    "    d_y = l[0].shape[0]\n",
    "    d_x = l[0].shape[1]\n",
    "\n",
    "    out = np.zeros((count, d_y, d_x, 1), dtype=l[0].dtype)\n",
    "\n",
    "    for i in range(count):\n",
    "        c_d_y = min(d_y, l[i].shape[0])\n",
    "        c_d_x = min(d_x, l[i].shape[1])\n",
    "        \n",
    "        #print(out[i, 0:c_d_y,0:c_d_x].shape)\n",
    "        #print(l[i][0:c_d_y,0:c_d_x].shape)\n",
    "        out[i, 0:c_d_y,0:c_d_x] = l[i][0:c_d_y,0:c_d_x]\n",
    "\n",
    "    return out"
   ]
  },
  {
   "cell_type": "code",
   "execution_count": 24,
   "id": "19ca52f3",
   "metadata": {},
   "outputs": [],
   "source": [
    "symp_i_patches_a = list_to_array(symp_i_patches)"
   ]
  },
  {
   "cell_type": "code",
   "execution_count": 25,
   "id": "cdd3d68a",
   "metadata": {},
   "outputs": [
    {
     "data": {
      "text/plain": [
       "(704, 29, 29, 1)"
      ]
     },
     "execution_count": 25,
     "metadata": {},
     "output_type": "execute_result"
    }
   ],
   "source": [
    "symp_i_patches_a.shape"
   ]
  },
  {
   "cell_type": "code",
   "execution_count": 26,
   "id": "918ac2aa",
   "metadata": {},
   "outputs": [],
   "source": [
    "asymp_i_patches_a = list_to_array(asymp_i_patches)"
   ]
  },
  {
   "cell_type": "code",
   "execution_count": 27,
   "id": "41aa5948",
   "metadata": {},
   "outputs": [
    {
     "data": {
      "text/plain": [
       "(713, 29, 29, 1)"
      ]
     },
     "execution_count": 27,
     "metadata": {},
     "output_type": "execute_result"
    }
   ],
   "source": [
    "asymp_i_patches_a.shape"
   ]
  },
  {
   "cell_type": "code",
   "execution_count": 28,
   "id": "1f60aa11",
   "metadata": {},
   "outputs": [
    {
     "data": {
      "text/plain": [
       "704"
      ]
     },
     "execution_count": 28,
     "metadata": {},
     "output_type": "execute_result"
    }
   ],
   "source": [
    "len(symp_i_patches_a)"
   ]
  },
  {
   "cell_type": "code",
   "execution_count": 29,
   "id": "1f6e4ac4",
   "metadata": {},
   "outputs": [
    {
     "data": {
      "text/plain": [
       "713"
      ]
     },
     "execution_count": 29,
     "metadata": {},
     "output_type": "execute_result"
    }
   ],
   "source": [
    "len(asymp_i_patches_a)"
   ]
  },
  {
   "cell_type": "code",
   "execution_count": null,
   "id": "3c76f933",
   "metadata": {},
   "outputs": [],
   "source": []
  },
  {
   "cell_type": "code",
   "execution_count": null,
   "id": "6c1ffd71",
   "metadata": {},
   "outputs": [],
   "source": []
  },
  {
   "cell_type": "code",
   "execution_count": 30,
   "id": "1126f3bb",
   "metadata": {},
   "outputs": [],
   "source": [
    "symp_l_patches_a = list_to_array(symp_l_patches)"
   ]
  },
  {
   "cell_type": "code",
   "execution_count": 31,
   "id": "97b4a4e8",
   "metadata": {},
   "outputs": [
    {
     "data": {
      "text/plain": [
       "(704, 29, 29, 1)"
      ]
     },
     "execution_count": 31,
     "metadata": {},
     "output_type": "execute_result"
    }
   ],
   "source": [
    "symp_l_patches_a.shape"
   ]
  },
  {
   "cell_type": "code",
   "execution_count": 32,
   "id": "7982220a",
   "metadata": {},
   "outputs": [],
   "source": [
    "asymp_l_patches_a = list_to_array(asymp_l_patches)"
   ]
  },
  {
   "cell_type": "code",
   "execution_count": 33,
   "id": "577c30dc",
   "metadata": {},
   "outputs": [
    {
     "data": {
      "text/plain": [
       "(713, 29, 29, 1)"
      ]
     },
     "execution_count": 33,
     "metadata": {},
     "output_type": "execute_result"
    }
   ],
   "source": [
    "asymp_l_patches_a.shape"
   ]
  },
  {
   "cell_type": "code",
   "execution_count": 34,
   "id": "734dbb45",
   "metadata": {},
   "outputs": [
    {
     "data": {
      "text/plain": [
       "704"
      ]
     },
     "execution_count": 34,
     "metadata": {},
     "output_type": "execute_result"
    }
   ],
   "source": [
    "len(symp_l_patches_a)"
   ]
  },
  {
   "cell_type": "code",
   "execution_count": 35,
   "id": "1cb0460d",
   "metadata": {},
   "outputs": [
    {
     "data": {
      "text/plain": [
       "713"
      ]
     },
     "execution_count": 35,
     "metadata": {},
     "output_type": "execute_result"
    }
   ],
   "source": [
    "len(asymp_l_patches_a)"
   ]
  },
  {
   "cell_type": "code",
   "execution_count": null,
   "id": "6496e506",
   "metadata": {},
   "outputs": [],
   "source": []
  },
  {
   "cell_type": "code",
   "execution_count": null,
   "id": "d0e9bada",
   "metadata": {},
   "outputs": [],
   "source": []
  },
  {
   "cell_type": "code",
   "execution_count": 36,
   "id": "dad733f2",
   "metadata": {},
   "outputs": [],
   "source": [
    "symp_count = len(symp_i_patches_a)\n",
    "symp_images_npy = np.zeros((symp_count, P,P,1), dtype=symp_i_patches_a[0].dtype)\n",
    "\n",
    "for i,img in enumerate(symp_i_patches_a):\n",
    "    symp_images_npy[i] = symp_i_patches_a[i,0:P,0:P]"
   ]
  },
  {
   "cell_type": "code",
   "execution_count": 37,
   "id": "f27d509c",
   "metadata": {},
   "outputs": [],
   "source": [
    "asymp_count = len(asymp_i_patches_a)\n",
    "asymp_images_npy = np.zeros((asymp_count, P,P,1), dtype=asymp_i_patches_a[0].dtype)\n",
    "\n",
    "for i,img in enumerate(asymp_i_patches_a):\n",
    "    asymp_images_npy[i] = asymp_i_patches_a[i,0:P,0:P]"
   ]
  },
  {
   "cell_type": "code",
   "execution_count": 38,
   "id": "8cf6f592",
   "metadata": {},
   "outputs": [
    {
     "data": {
      "text/plain": [
       "(704, 28, 28, 1)"
      ]
     },
     "execution_count": 38,
     "metadata": {},
     "output_type": "execute_result"
    }
   ],
   "source": [
    "symp_images_npy.shape"
   ]
  },
  {
   "cell_type": "code",
   "execution_count": 39,
   "id": "42eb4253",
   "metadata": {},
   "outputs": [
    {
     "data": {
      "text/plain": [
       "(713, 28, 28, 1)"
      ]
     },
     "execution_count": 39,
     "metadata": {},
     "output_type": "execute_result"
    }
   ],
   "source": [
    "asymp_images_npy.shape"
   ]
  },
  {
   "cell_type": "code",
   "execution_count": 34,
   "id": "3aa654e4",
   "metadata": {},
   "outputs": [],
   "source": [
    "#np.save(os.path.join(DATAPATH, 'asymp_cropped_no_norm.npy'), asymp_images_npy)\n",
    "#np.save(os.path.join(DATAPATH, 'symp_cropped_no_norm.npy'), symp_images_npy)"
   ]
  },
  {
   "cell_type": "code",
   "execution_count": null,
   "id": "c819cf78",
   "metadata": {},
   "outputs": [],
   "source": []
  },
  {
   "cell_type": "code",
   "execution_count": null,
   "id": "d1b149e4",
   "metadata": {},
   "outputs": [],
   "source": []
  },
  {
   "cell_type": "code",
   "execution_count": 40,
   "id": "47228358",
   "metadata": {},
   "outputs": [],
   "source": [
    "symp_count_a = len(symp_l_patches_a)\n",
    "symp_labels_npy = np.zeros((symp_count_a, P,P,1), dtype=symp_l_patches_a[0].dtype)\n",
    "\n",
    "for i,img in enumerate(symp_l_patches_a):\n",
    "    symp_labels_npy[i] = symp_l_patches_a[i,0:P,0:P]"
   ]
  },
  {
   "cell_type": "code",
   "execution_count": 41,
   "id": "b1b6c449",
   "metadata": {},
   "outputs": [],
   "source": [
    "asymp_count_a = len(asymp_l_patches_a)\n",
    "asymp_labels_npy = np.zeros((asymp_count_a, P,P,1), dtype=asymp_l_patches_a[0].dtype)\n",
    "\n",
    "for i,img in enumerate(asymp_l_patches_a):\n",
    "    asymp_labels_npy[i] = asymp_l_patches_a[i,0:P,0:P]"
   ]
  },
  {
   "cell_type": "code",
   "execution_count": 42,
   "id": "1b9cbdf3",
   "metadata": {},
   "outputs": [
    {
     "data": {
      "text/plain": [
       "(704, 28, 28, 1)"
      ]
     },
     "execution_count": 42,
     "metadata": {},
     "output_type": "execute_result"
    }
   ],
   "source": [
    "symp_labels_npy.shape"
   ]
  },
  {
   "cell_type": "code",
   "execution_count": 43,
   "id": "741f524d",
   "metadata": {},
   "outputs": [
    {
     "data": {
      "text/plain": [
       "(713, 28, 28, 1)"
      ]
     },
     "execution_count": 43,
     "metadata": {},
     "output_type": "execute_result"
    }
   ],
   "source": [
    "asymp_labels_npy.shape"
   ]
  },
  {
   "cell_type": "code",
   "execution_count": 44,
   "id": "b670d9a0",
   "metadata": {},
   "outputs": [],
   "source": [
    "#np.save(os.path.join(DATAPATH, 'asymp_cropped_labels_no_norm.npy'), asymp_labels_npy)\n",
    "#np.save(os.path.join(DATAPATH, 'symp_cropped_labels_no_norm.npy'), symp_labels_npy)"
   ]
  },
  {
   "cell_type": "code",
   "execution_count": null,
   "id": "1b622f4f",
   "metadata": {},
   "outputs": [],
   "source": []
  },
  {
   "cell_type": "code",
   "execution_count": null,
   "id": "e33ad2da",
   "metadata": {},
   "outputs": [],
   "source": []
  },
  {
   "cell_type": "code",
   "execution_count": 35,
   "id": "8735fed2",
   "metadata": {},
   "outputs": [],
   "source": [
    "for z in range(symp_images_npy.shape[0]):\n",
    "    symp_images_npy[z] = (symp_images_npy[z] - symp_images_npy[z].min()) / (symp_images_npy[z].max() - symp_images_npy[z].min())"
   ]
  },
  {
   "cell_type": "code",
   "execution_count": 36,
   "id": "1bedd38b",
   "metadata": {},
   "outputs": [],
   "source": [
    "for z in range(asymp_images_npy.shape[0]):\n",
    "    asymp_images_npy[z] = (asymp_images_npy[z] - asymp_images_npy[z].min()) / (asymp_images_npy[z].max() - asymp_images_npy[z].min())"
   ]
  },
  {
   "cell_type": "code",
   "execution_count": 37,
   "id": "707cc15d",
   "metadata": {},
   "outputs": [],
   "source": [
    "#np.save(os.path.join(DATAPATH, 'asymp_cropped.npy'), asymp_images_npy)\n",
    "#np.save(os.path.join(DATAPATH, 'symp_cropped.npy'), symp_images_npy)"
   ]
  },
  {
   "cell_type": "code",
   "execution_count": null,
   "id": "208a46e7",
   "metadata": {},
   "outputs": [],
   "source": []
  },
  {
   "cell_type": "code",
   "execution_count": 45,
   "id": "748713ba",
   "metadata": {},
   "outputs": [],
   "source": [
    "for z in range(symp_labels_npy.shape[0]):\n",
    "    symp_labels_npy[z] = (symp_labels_npy[z] - symp_labels_npy[z].min()) / (symp_labels_npy[z].max() - symp_labels_npy[z].min())"
   ]
  },
  {
   "cell_type": "code",
   "execution_count": 46,
   "id": "3b80009c",
   "metadata": {},
   "outputs": [],
   "source": [
    "for z in range(asymp_labels_npy.shape[0]):\n",
    "    asymp_labels_npy[z] = (asymp_labels_npy[z] - asymp_labels_npy[z].min()) / (asymp_labels_npy[z].max() - asymp_labels_npy[z].min())"
   ]
  },
  {
   "cell_type": "code",
   "execution_count": 48,
   "id": "74abcbfc",
   "metadata": {},
   "outputs": [],
   "source": [
    "#np.save(os.path.join(DATAPATH, 'asymp_labels_cropped.npy'), asymp_labels_npy)\n",
    "#np.save(os.path.join(DATAPATH, 'symp_labels_cropped.npy'), symp_labels_npy)"
   ]
  },
  {
   "cell_type": "code",
   "execution_count": null,
   "id": "5e3a16bc",
   "metadata": {},
   "outputs": [],
   "source": []
  },
  {
   "cell_type": "code",
   "execution_count": null,
   "id": "1f18b700",
   "metadata": {},
   "outputs": [],
   "source": []
  },
  {
   "cell_type": "code",
   "execution_count": null,
   "id": "bbcbe2c5",
   "metadata": {},
   "outputs": [],
   "source": []
  },
  {
   "cell_type": "code",
   "execution_count": null,
   "id": "24ea4020",
   "metadata": {},
   "outputs": [],
   "source": []
  },
  {
   "cell_type": "code",
   "execution_count": null,
   "id": "7257cb7d",
   "metadata": {},
   "outputs": [],
   "source": []
  },
  {
   "cell_type": "code",
   "execution_count": 38,
   "id": "23e2f7b9",
   "metadata": {},
   "outputs": [],
   "source": [
    "from sklearn.utils import shuffle\n",
    "from sklearn.model_selection import train_test_split\n",
    "from sklearn.ensemble import RandomForestClassifier\n",
    "import sklearn.metrics"
   ]
  },
  {
   "cell_type": "code",
   "execution_count": 39,
   "id": "f6b337e2",
   "metadata": {},
   "outputs": [],
   "source": [
    "labels_test = np.array([0]*len(asymp_l_patches) + [1]*len(symp_l_patches))"
   ]
  },
  {
   "cell_type": "code",
   "execution_count": 40,
   "id": "3f46d922",
   "metadata": {},
   "outputs": [],
   "source": [
    "images_test = np.concatenate((symp_images_npy, asymp_images_npy))"
   ]
  },
  {
   "cell_type": "code",
   "execution_count": 41,
   "id": "33e79da9",
   "metadata": {},
   "outputs": [
    {
     "data": {
      "text/plain": [
       "(1417,)"
      ]
     },
     "execution_count": 41,
     "metadata": {},
     "output_type": "execute_result"
    }
   ],
   "source": [
    "labels_test.shape"
   ]
  },
  {
   "cell_type": "code",
   "execution_count": 42,
   "id": "40360491",
   "metadata": {},
   "outputs": [
    {
     "data": {
      "text/plain": [
       "(1417, 28, 28, 1)"
      ]
     },
     "execution_count": 42,
     "metadata": {},
     "output_type": "execute_result"
    }
   ],
   "source": [
    "images_test.shape"
   ]
  },
  {
   "cell_type": "code",
   "execution_count": null,
   "id": "1658866a",
   "metadata": {},
   "outputs": [],
   "source": []
  },
  {
   "cell_type": "code",
   "execution_count": 43,
   "id": "2f4138ee",
   "metadata": {},
   "outputs": [],
   "source": [
    "X, y = shuffle(images_test, labels_test, random_state=0)"
   ]
  },
  {
   "cell_type": "code",
   "execution_count": 44,
   "id": "e15d8d29",
   "metadata": {},
   "outputs": [],
   "source": [
    "X_train, X_val, y_train, y_val = train_test_split(X, y, test_size=0.20, random_state=0)"
   ]
  },
  {
   "cell_type": "code",
   "execution_count": null,
   "id": "563453ed",
   "metadata": {},
   "outputs": [],
   "source": []
  },
  {
   "cell_type": "code",
   "execution_count": 45,
   "id": "0152f942",
   "metadata": {},
   "outputs": [],
   "source": [
    "rf = RandomForestClassifier(n_estimators=100)"
   ]
  },
  {
   "cell_type": "code",
   "execution_count": 46,
   "id": "8b3654e8",
   "metadata": {},
   "outputs": [],
   "source": [
    "X_train_raveled = X_train.reshape(X_train.shape[0], X_train.shape[1]*X_train.shape[2])"
   ]
  },
  {
   "cell_type": "code",
   "execution_count": 47,
   "id": "4da28b49",
   "metadata": {},
   "outputs": [],
   "source": [
    "X_val_raveled = X_val.reshape(X_val.shape[0], X_val.shape[1]*X_val.shape[2])"
   ]
  },
  {
   "cell_type": "code",
   "execution_count": 48,
   "id": "f15a73bd",
   "metadata": {},
   "outputs": [],
   "source": [
    "fitted = rf.fit(X_train_raveled, y_train)"
   ]
  },
  {
   "cell_type": "code",
   "execution_count": 49,
   "id": "0fb7e832",
   "metadata": {},
   "outputs": [],
   "source": [
    "y_pred = rf.predict(X_val_raveled)"
   ]
  },
  {
   "cell_type": "code",
   "execution_count": 50,
   "id": "f53e782c",
   "metadata": {},
   "outputs": [
    {
     "data": {
      "text/plain": [
       "0.8415492957746479"
      ]
     },
     "execution_count": 50,
     "metadata": {},
     "output_type": "execute_result"
    }
   ],
   "source": [
    "sklearn.metrics.accuracy_score(y_val, y_pred)"
   ]
  },
  {
   "cell_type": "code",
   "execution_count": 51,
   "id": "d1a3a838",
   "metadata": {},
   "outputs": [
    {
     "data": {
      "text/plain": [
       "0.8363636363636364"
      ]
     },
     "execution_count": 51,
     "metadata": {},
     "output_type": "execute_result"
    }
   ],
   "source": [
    "sklearn.metrics.f1_score(y_val, y_pred)"
   ]
  },
  {
   "cell_type": "code",
   "execution_count": null,
   "id": "c5cb8336",
   "metadata": {},
   "outputs": [],
   "source": []
  },
  {
   "cell_type": "code",
   "execution_count": 52,
   "id": "d1b4cbf5",
   "metadata": {},
   "outputs": [
    {
     "data": {
      "text/plain": [
       "array([1, 0, 0, 1, 1, 1, 1, 1, 0, 0, 1, 0, 0, 1, 0, 1, 0, 1, 0, 1, 0, 0,\n",
       "       0, 0, 0, 1, 1, 0, 0, 0, 0, 1, 0, 0, 1, 1, 1, 1, 0, 0, 0, 0, 1, 1,\n",
       "       1, 0, 1, 0, 0, 1, 0, 1, 0, 1, 0, 0, 1, 1, 0, 1, 1, 0, 1, 0, 0, 0,\n",
       "       0, 0, 1, 0, 0, 1, 0, 0, 0, 0, 1, 1, 0, 0, 1, 0, 0, 0, 0, 0, 1, 0,\n",
       "       1, 1, 1, 1, 0, 1, 1, 0, 0, 0, 0, 0, 1, 0, 1, 1, 0, 0, 1, 1, 0, 1,\n",
       "       1, 1, 1, 1, 1, 0, 1, 1, 1, 0, 1, 1, 1, 0, 1, 0, 0, 0, 1, 0, 1, 1,\n",
       "       0, 1, 0, 1, 1, 1, 0, 0, 1, 1, 1, 1, 0, 0, 0, 0, 1, 0, 0, 0, 1, 0,\n",
       "       1, 0, 0, 1, 1, 0, 1, 1, 0, 1, 1, 1, 1, 1, 0, 0, 0, 1, 0, 1, 1, 0,\n",
       "       0, 0, 1, 1, 1, 0, 0, 1, 1, 1, 0, 1, 0, 0, 1, 0, 0, 0, 0, 1, 1, 0,\n",
       "       0, 1, 1, 0, 0, 0, 1, 1, 0, 0, 0, 1, 0, 0, 1, 1, 0, 1, 0, 1, 0, 1,\n",
       "       0, 0, 1, 1, 0, 1, 1, 1, 0, 0, 0, 1, 1, 1, 0, 0, 1, 0, 0, 1, 1, 0,\n",
       "       0, 0, 1, 0, 0, 0, 1, 1, 0, 0, 0, 0, 1, 0, 0, 1, 1, 0, 1, 0, 1, 0,\n",
       "       0, 0, 0, 0, 0, 1, 1, 1, 1, 0, 1, 1, 0, 1, 0, 0, 1, 1, 0, 1])"
      ]
     },
     "execution_count": 52,
     "metadata": {},
     "output_type": "execute_result"
    }
   ],
   "source": [
    "y_pred"
   ]
  },
  {
   "cell_type": "code",
   "execution_count": 53,
   "id": "67db2299",
   "metadata": {},
   "outputs": [
    {
     "data": {
      "text/plain": [
       "array([1, 0, 0, 1, 1, 1, 1, 1, 0, 0, 1, 1, 0, 0, 1, 1, 1, 1, 0, 1, 0, 0,\n",
       "       0, 1, 0, 1, 1, 1, 1, 0, 0, 1, 0, 0, 1, 1, 0, 1, 0, 1, 0, 1, 1, 1,\n",
       "       1, 0, 1, 0, 0, 1, 0, 1, 0, 0, 0, 0, 1, 0, 0, 1, 1, 0, 1, 0, 0, 0,\n",
       "       1, 0, 0, 0, 0, 1, 0, 0, 1, 0, 1, 1, 0, 0, 1, 0, 1, 0, 0, 0, 1, 1,\n",
       "       0, 1, 1, 0, 0, 0, 1, 1, 0, 0, 0, 0, 1, 0, 1, 1, 1, 0, 0, 1, 0, 1,\n",
       "       1, 0, 1, 1, 1, 1, 1, 0, 1, 0, 1, 1, 1, 0, 1, 1, 0, 0, 1, 0, 1, 1,\n",
       "       1, 1, 0, 0, 1, 1, 0, 0, 0, 1, 1, 1, 0, 0, 0, 1, 1, 0, 0, 0, 0, 0,\n",
       "       1, 0, 0, 1, 1, 0, 1, 1, 0, 1, 1, 1, 1, 0, 1, 0, 0, 1, 0, 0, 1, 1,\n",
       "       0, 0, 1, 1, 1, 0, 0, 1, 1, 1, 0, 1, 0, 1, 1, 0, 0, 1, 0, 1, 1, 0,\n",
       "       0, 1, 1, 0, 0, 0, 0, 1, 0, 0, 0, 0, 0, 0, 1, 1, 0, 1, 0, 0, 0, 1,\n",
       "       0, 0, 1, 1, 0, 1, 1, 1, 0, 0, 1, 1, 1, 1, 0, 0, 1, 0, 1, 1, 1, 0,\n",
       "       0, 0, 1, 0, 0, 0, 1, 1, 0, 0, 0, 0, 1, 0, 0, 1, 1, 0, 1, 0, 1, 0,\n",
       "       0, 0, 1, 0, 0, 1, 1, 1, 1, 0, 1, 1, 0, 1, 0, 0, 1, 0, 0, 1])"
      ]
     },
     "execution_count": 53,
     "metadata": {},
     "output_type": "execute_result"
    }
   ],
   "source": [
    "y_val"
   ]
  },
  {
   "cell_type": "code",
   "execution_count": null,
   "id": "4d977a3e",
   "metadata": {},
   "outputs": [],
   "source": []
  },
  {
   "cell_type": "code",
   "execution_count": null,
   "id": "0fdeae44",
   "metadata": {},
   "outputs": [],
   "source": []
  },
  {
   "cell_type": "code",
   "execution_count": null,
   "id": "af648d56",
   "metadata": {},
   "outputs": [],
   "source": []
  }
 ],
 "metadata": {
  "kernelspec": {
   "display_name": "Python 3 (ipykernel)",
   "language": "python",
   "name": "python3"
  },
  "language_info": {
   "codemirror_mode": {
    "name": "ipython",
    "version": 3
   },
   "file_extension": ".py",
   "mimetype": "text/x-python",
   "name": "python",
   "nbconvert_exporter": "python",
   "pygments_lexer": "ipython3",
   "version": "3.9.7"
  }
 },
 "nbformat": 4,
 "nbformat_minor": 5
}
