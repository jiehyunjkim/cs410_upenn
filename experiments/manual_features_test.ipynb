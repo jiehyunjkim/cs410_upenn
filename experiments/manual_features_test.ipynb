{
 "cells": [
  {
   "cell_type": "code",
   "execution_count": 1,
   "metadata": {},
   "outputs": [],
   "source": [
    "import cactas as C"
   ]
  },
  {
   "cell_type": "code",
   "execution_count": 2,
   "metadata": {},
   "outputs": [],
   "source": [
    "from upenn_plaque_features_oo_v1 import PlaqueFeatures as p"
   ]
  },
  {
   "cell_type": "code",
   "execution_count": 3,
   "metadata": {},
   "outputs": [],
   "source": [
    "data = '/raid/mpsych/CACTAS/DATA/ESUS/13.seg.nrrd'"
   ]
  },
  {
   "cell_type": "code",
   "execution_count": 4,
   "metadata": {},
   "outputs": [],
   "source": [
    "test = p(data)"
   ]
  },
  {
   "cell_type": "code",
   "execution_count": 5,
   "metadata": {
    "scrolled": true
   },
   "outputs": [
    {
     "name": "stdout",
     "output_type": "stream",
     "text": [
      "Total number of plaque: 7\n",
      "\n",
      "Plaque #1 (Right) voxels: 140\n",
      "Plaque #2 (Right) voxels: 19\n",
      "Plaque #3 (Right) voxels: 15\n",
      "Plaque #4 (Right) voxels: 33\n",
      "Plaque #5 (Left) voxels: 1\n",
      "Plaque #6 (Left) voxels: 251\n",
      "Plaque #7 (Left) voxels: 91\n",
      "Total number of plaque voxels: 550\n",
      "Total number of voxels in dataset: 65536000\n",
      "\n",
      "Plaque #1 (Right) volume: 79.488mm3\n",
      "Plaque #2 (Right) volume: 10.788mm3\n",
      "Plaque #3 (Right) volume: 8.517mm3\n",
      "Plaque #4 (Right) volume: 18.736mm3\n",
      "Plaque #5 (Left) volume: 0.568mm3\n",
      "Plaque #6 (Left) volume: 142.51mm3\n",
      "Plaque #7 (Left) volume: 51.667mm3\n",
      "Total plaque volume: 312.274mm3\n",
      "\n",
      "Plaque #1 (Right):\n",
      "Width (axial plane, y-axis): 4.307mm\n",
      "Depth (sagittal plane, x-axis): 9.229mm\n",
      "Height (coronal plane, z-axis): 16.5mm\n",
      "Plaque #2 (Right):\n",
      "Width (axial plane, y-axis): 1.846mm\n",
      "Depth (sagittal plane, x-axis): 3.691mm\n",
      "Height (coronal plane, z-axis): 3.0mm\n",
      "Plaque #3 (Right):\n",
      "Width (axial plane, y-axis): 2.461mm\n",
      "Depth (sagittal plane, x-axis): 2.461mm\n",
      "Height (coronal plane, z-axis): 4.5mm\n",
      "Plaque #4 (Right):\n",
      "Width (axial plane, y-axis): 1.846mm\n",
      "Depth (sagittal plane, x-axis): 4.307mm\n",
      "Height (coronal plane, z-axis): 4.5mm\n",
      "Plaque #5 (Left):\n",
      "Width (axial plane, y-axis): 0.615mm\n",
      "Depth (sagittal plane, x-axis): 0.615mm\n",
      "Height (coronal plane, z-axis): 1.5mm\n",
      "Plaque #6 (Left):\n",
      "Width (axial plane, y-axis): 9.229mm\n",
      "Depth (sagittal plane, x-axis): 7.383mm\n",
      "Height (coronal plane, z-axis): 15.0mm\n",
      "Plaque #7 (Left):\n",
      "Width (axial plane, y-axis): 6.152mm\n",
      "Depth (sagittal plane, x-axis): 3.691mm\n",
      "Height (coronal plane, z-axis): 9.0mm\n",
      "\n",
      "Dimensions of input dataset: (512, 512, 250)\n"
     ]
    }
   ],
   "source": [
    "test.pInfoAll()"
   ]
  },
  {
   "cell_type": "code",
   "execution_count": null,
   "metadata": {},
   "outputs": [],
   "source": []
  }
 ],
 "metadata": {
  "kernelspec": {
   "display_name": "Python 3 (ipykernel)",
   "language": "python",
   "name": "python3"
  },
  "language_info": {
   "codemirror_mode": {
    "name": "ipython",
    "version": 3
   },
   "file_extension": ".py",
   "mimetype": "text/x-python",
   "name": "python",
   "nbconvert_exporter": "python",
   "pygments_lexer": "ipython3",
   "version": "3.10.8"
  },
  "vscode": {
   "interpreter": {
    "hash": "b0fa6594d8f4cbf19f97940f81e996739fb7646882a419484c72d19e05852a7e"
   }
  }
 },
 "nbformat": 4,
 "nbformat_minor": 2
}
