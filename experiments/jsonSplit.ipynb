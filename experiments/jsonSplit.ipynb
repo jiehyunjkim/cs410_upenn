{
 "cells": [
  {
   "cell_type": "code",
   "execution_count": 1,
   "id": "81b742a9",
   "metadata": {},
   "outputs": [],
   "source": [
    "import os\n",
    "import json\n",
    "import random"
   ]
  },
  {
   "cell_type": "code",
   "execution_count": 2,
   "id": "7cc26156",
   "metadata": {},
   "outputs": [],
   "source": [
    "# set path for image and label folder\n",
    "data_folder = 'ChunkedImagesLabels'\n",
    "\n",
    "# set ratio for train and validation data\n",
    "train_ratio = 0.8\n",
    "val_ratio = 0.2\n",
    "\n",
    "# get list of image and label files\n",
    "data_files = os.listdir(data_folder)\n",
    "\n",
    "# filter files by extension to get image and label files separately\n",
    "img_files = [f for f in data_files if f.endswith('.nrrd') and 'chunk' in f]\n",
    "label_files = [f for f in data_files if f.endswith('.nrrd') and 'label' in f]\n",
    "\n",
    "# sort the image and label files based on their names\n",
    "img_files.sort()\n",
    "label_files.sort()\n",
    "\n",
    "# shuffle the files to split into train and validation sets\n",
    "random.seed(42)\n",
    "random.shuffle(img_files)\n",
    "random.shuffle(label_files)\n",
    "\n",
    "# get length of train and validation sets based on ratios\n",
    "train_len = int(train_ratio * len(img_files))\n",
    "val_len = len(img_files) - train_len"
   ]
  },
  {
   "cell_type": "code",
   "execution_count": 3,
   "id": "c5f602ea",
   "metadata": {},
   "outputs": [],
   "source": [
    "# create a dictionary for the data\n",
    "data = {\n",
    "    \"training\": [],\n",
    "    \"validation\": []\n",
    "}\n",
    "\n",
    "# iterate through the train set and add image and label data to the dictionary\n",
    "for i in range(train_len):\n",
    "    img_name = img_files[i]\n",
    "    img_num_str = img_name.split('.')[0].split('_')[-1]\n",
    "    if img_num_str.isdigit():\n",
    "        img_num = int(img_num_str)\n",
    "        label_name = f\"output_label_{img_num}.nrrd\"\n",
    "        if label_name in label_files:\n",
    "            data[\"training\"].append({\n",
    "                \"img\": os.path.join(data_folder, img_name),\n",
    "                \"label\": os.path.join(data_folder, label_name)\n",
    "            })\n",
    "\n",
    "# iterate through the validation set and add image and label data to the dictionary\n",
    "for i in range(train_len, train_len+val_len):\n",
    "    img_name = img_files[i]\n",
    "    img_num_str = img_name.split('.')[0].split('_')[-1]\n",
    "    if img_num_str.isdigit():\n",
    "        img_num = int(img_num_str)\n",
    "        label_name = f\"output_label_{img_num}.nrrd\"\n",
    "        if label_name in label_files:\n",
    "            data[\"validation\"].append({\n",
    "                \"img\": os.path.join(data_folder, img_name),\n",
    "                \"label\": os.path.join(data_folder, label_name)\n",
    "            })\n",
    "\n",
    "# write the dictionary to a JSON file\n",
    "with open('data_ESUS.json', 'w') as f:\n",
    "    json.dump(data, f, indent=4)\n"
   ]
  },
  {
   "cell_type": "code",
   "execution_count": null,
   "id": "a377615b",
   "metadata": {},
   "outputs": [],
   "source": []
  }
 ],
 "metadata": {
  "kernelspec": {
   "display_name": "Python 3 (ipykernel)",
   "language": "python",
   "name": "python3"
  },
  "language_info": {
   "codemirror_mode": {
    "name": "ipython",
    "version": 3
   },
   "file_extension": ".py",
   "mimetype": "text/x-python",
   "name": "python",
   "nbconvert_exporter": "python",
   "pygments_lexer": "ipython3",
   "version": "3.9.7"
  }
 },
 "nbformat": 4,
 "nbformat_minor": 5
}
