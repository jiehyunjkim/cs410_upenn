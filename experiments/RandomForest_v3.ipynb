{
 "cells": [
  {
   "cell_type": "code",
   "execution_count": 1,
   "id": "ab21c4e1",
   "metadata": {},
   "outputs": [
    {
     "name": "stdout",
     "output_type": "stream",
     "text": [
      "Populating the interactive namespace from numpy and matplotlib\n"
     ]
    }
   ],
   "source": [
    "%pylab inline"
   ]
  },
  {
   "cell_type": "code",
   "execution_count": 2,
   "id": "00e55144",
   "metadata": {},
   "outputs": [
    {
     "name": "stderr",
     "output_type": "stream",
     "text": [
      "2023-05-02 19:19:33.314701: I tensorflow/stream_executor/platform/default/dso_loader.cc:53] Successfully opened dynamic library libcudart.so.11.0\n",
      "/home/jiehyun.kim001/miniconda3/envs/O/lib/python3.9/site-packages/scipy/__init__.py:146: UserWarning: A NumPy version >=1.16.5 and <1.23.0 is required for this version of SciPy (detected version 1.23.4\n",
      "  warnings.warn(f\"A NumPy version >={np_minversion} and <{np_maxversion}\"\n"
     ]
    }
   ],
   "source": [
    "import tensorflow\n",
    "import keras\n",
    "from tensorflow.keras.applications import VGG19\n",
    "from tensorflow.keras.preprocessing.image import ImageDataGenerator\n",
    "import tensorflow.keras.layers as layers\n",
    "from sklearn.utils import shuffle\n",
    "from sklearn.model_selection import train_test_split\n",
    "from sklearn.ensemble import RandomForestClassifier\n",
    "import sklearn.metrics\n",
    "from scipy import stats\n",
    "import json"
   ]
  },
  {
   "cell_type": "code",
   "execution_count": 3,
   "id": "5259f6f4",
   "metadata": {},
   "outputs": [],
   "source": [
    "import cactas as C"
   ]
  },
  {
   "cell_type": "code",
   "execution_count": null,
   "id": "318ad02f",
   "metadata": {},
   "outputs": [],
   "source": []
  },
  {
   "cell_type": "code",
   "execution_count": 4,
   "id": "70bb7ff1",
   "metadata": {},
   "outputs": [],
   "source": [
    "asymp_img = np.load('/raid/mpsych/CACTAS/DATA/ESUS/asymp_cropped_no_norm.npy')\n",
    "symp_img = np.load('/raid/mpsych/CACTAS/DATA/ESUS/symp_cropped_no_norm.npy')\n",
    "asymp_label = np.load('/raid/mpsych/CACTAS/DATA/ESUS/asymp_cropped_labels_no_norm.npy')\n",
    "symp_label = np.load('/raid/mpsych/CACTAS/DATA/ESUS/symp_cropped_labels_no_norm.npy')"
   ]
  },
  {
   "cell_type": "code",
   "execution_count": 5,
   "id": "45b5fe91",
   "metadata": {},
   "outputs": [],
   "source": [
    "images = np.concatenate((asymp_img, symp_img, asymp_label, symp_label))\n",
    "labels = np.array([0]*len(asymp_img) + [0]*len(asymp_label) + [1]*len(symp_img) + [1]*len(symp_label))"
   ]
  },
  {
   "cell_type": "code",
   "execution_count": null,
   "id": "01220ddc",
   "metadata": {},
   "outputs": [],
   "source": [
    "#images = np.concatenate((asymp_img, asymp_label, symp_img, symp_label))"
   ]
  },
  {
   "cell_type": "code",
   "execution_count": 6,
   "id": "238565be",
   "metadata": {},
   "outputs": [
    {
     "name": "stdout",
     "output_type": "stream",
     "text": [
      "run 0 acc 0.9952718676122931 f1 0.995433789954338\n",
      "test run 0 acc 0.8680310515172901 f1 0.882537688442211\n",
      "run 1 acc 0.9952718676122931 f1 0.995433789954338\n",
      "test run 1 acc 0.8853211009174312 f1 0.8963317384370016\n",
      "run 2 acc 0.9952718676122931 f1 0.995433789954338\n",
      "test run 2 acc 0.8793225123500353 f1 0.891497461928934\n",
      "run 3 acc 0.9952718676122931 f1 0.995433789954338\n",
      "test run 3 acc 0.8719124911785462 f1 0.8855972265994326\n",
      "run 4 acc 0.9952718676122931 f1 0.995433789954338\n",
      "test run 4 acc 0.8966125617501765 f1 0.9055752497582984\n",
      "run 5 acc 0.9952718676122931 f1 0.995433789954338\n",
      "test run 5 acc 0.8641496118560339 f1 0.8794992175273866\n",
      "run 6 acc 0.9952718676122931 f1 0.995433789954338\n",
      "test run 6 acc 0.8549752999294283 f1 0.8723998758149644\n",
      "run 7 acc 0.9952718676122931 f1 0.995433789954338\n",
      "test run 7 acc 0.8976711362032463 f1 0.9064516129032258\n",
      "run 8 acc 0.9952718676122931 f1 0.995433789954338\n",
      "test run 8 acc 0.8824982357092449 f1 0.8940502704422527\n",
      "run 9 acc 0.9952718676122931 f1 0.995433789954338\n",
      "test run 9 acc 0.9026111503175723 f1 0.9105638366817886\n"
     ]
    }
   ],
   "source": [
    "train_f1 = []\n",
    "test_f1 = []\n",
    "train_acc = []\n",
    "test_acc = []\n",
    "for i in range(10):\n",
    "    X, y = shuffle(images, labels, random_state=0)\n",
    "    X_train, X_val, y_train, y_val = C.Util.split_3(X, y, val_size=0.20)\n",
    "    #X_train, X_val, y_train, y_val = C.Util.split_2(X, y, val_size=0.10)\n",
    "    \n",
    "    X_train_raveled = X_train.reshape(X_train.shape[0], X_train.shape[1]*X_train.shape[2])\n",
    "    X_val_raveled = X_val.reshape(X_val.shape[0], X_val.shape[1]*X_val.shape[2])\n",
    "\n",
    "    rf = RandomForestClassifier(n_estimators=100)\n",
    "    fitted = rf.fit(X_train_raveled, y_train)\n",
    "    y_pred = rf.predict(X_val_raveled)\n",
    "    \n",
    "    train_accuracy = sklearn.metrics.accuracy_score(y_val, y_pred)\n",
    "    f1 = sklearn.metrics.f1_score(y_val, y_pred)\n",
    "    print('run', i, 'acc', train_accuracy, 'f1', f1)\n",
    "    train_acc.append(train_accuracy)\n",
    "    train_f1.append(f1)\n",
    "    \n",
    "    asymp_img_test = np.load('/raid/mpsych/CACTAS/DATA/ESUS/asymp_cropped.npy')\n",
    "    symp_img_test = np.load('/raid/mpsych/CACTAS/DATA/ESUS/symp_cropped.npy')\n",
    "    asymp_label_test = np.load('/raid/mpsych/CACTAS/DATA/ESUS/asymp_labels_cropped.npy')\n",
    "    symp_label_test = np.load('/raid/mpsych/CACTAS/DATA/ESUS/symp_labels_cropped.npy')\n",
    "\n",
    "    labels_test = np.array([0]*len(asymp_img_test) + [0]*len(asymp_label_test) + [1]*len(symp_img_test) + [1]*len(symp_label_test))\n",
    "    images_test = np.concatenate((asymp_img_test, symp_img_test, asymp_label_test, symp_label_test))\n",
    "    \n",
    "    X_test, y_test = shuffle(images_test, labels_test, random_state=0)\n",
    "    \n",
    "    X_test_raveled = X_test.reshape(X_test.shape[0], X_test.shape[1]*X_test.shape[2])\n",
    "\n",
    "    y_pred = rf.predict(X_test_raveled)\n",
    "    \n",
    "    test_accuracy = sklearn.metrics.accuracy_score(y_test, y_pred)\n",
    "    c_test_f1 = sklearn.metrics.f1_score(y_test, y_pred)\n",
    "    print('test run', i, 'acc', test_accuracy, 'f1', c_test_f1)\n",
    "    test_acc.append(test_accuracy)\n",
    "    test_f1.append(c_test_f1)"
   ]
  },
  {
   "cell_type": "code",
   "execution_count": null,
   "id": "b4909f34",
   "metadata": {},
   "outputs": [],
   "source": []
  },
  {
   "cell_type": "code",
   "execution_count": null,
   "id": "4a831d4b",
   "metadata": {},
   "outputs": [],
   "source": []
  },
  {
   "cell_type": "code",
   "execution_count": 7,
   "id": "41a0b11f",
   "metadata": {},
   "outputs": [
    {
     "data": {
      "image/png": "[encoded data removed]",
      "text/plain": [
       "<Figure size 504x936 with 1 Axes>"
      ]
     },
     "metadata": {
      "needs_background": "light"
     },
     "output_type": "display_data"
    },
    {
     "name": "stdout",
     "output_type": "stream",
     "text": [
      "Train 0.9954337899543381 +/- 1.1102230246251565e-16\n",
      "Test 0.8924504178535496 +/- 0.01195788100142732\n",
      "t_20 = 25.837 ,p= 0.0\n"
     ]
    }
   ],
   "source": [
    "data = [train_f1, test_f1]\n",
    "labels = ['Train', 'Test']\n",
    "C.Util.boxplot(data, labels, y_lim=1, y_label='F1 Score', outputdir='/home/jiehyun.kim001/CACTAS/_EXPERIMENTS/')"
   ]
  },
  {
   "cell_type": "code",
   "execution_count": 8,
   "id": "25d15f50",
   "metadata": {},
   "outputs": [
    {
     "data": {
      "image/png": "[encoded data removed]",
      "text/plain": [
       "<Figure size 504x936 with 1 Axes>"
      ]
     },
     "metadata": {
      "needs_background": "light"
     },
     "output_type": "display_data"
    },
    {
     "name": "stdout",
     "output_type": "stream",
     "text": [
      "Train 0.9952718676122932 +/- 1.1102230246251565e-16\n",
      "Test 0.8803105151729005 +/- 0.014898638915614213\n",
      "t_20 = 23.149 ,p= 0.0\n"
     ]
    }
   ],
   "source": [
    "data = [train_acc, test_acc]\n",
    "labels = ['Train', 'Test']\n",
    "C.Util.boxplot(data, labels, y_lim=1, y_label='Accuracy', outputdir='/home/jiehyun.kim001/CACTAS/_EXPERIMENTS/')"
   ]
  },
  {
   "cell_type": "code",
   "execution_count": null,
   "id": "a77bc66b",
   "metadata": {},
   "outputs": [],
   "source": []
  },
  {
   "cell_type": "code",
   "execution_count": null,
   "id": "56f64638",
   "metadata": {},
   "outputs": [],
   "source": []
  }
 ],
 "metadata": {
  "kernelspec": {
   "display_name": "Python 3 (ipykernel)",
   "language": "python",
   "name": "python3"
  },
  "language_info": {
   "codemirror_mode": {
    "name": "ipython",
    "version": 3
   },
   "file_extension": ".py",
   "mimetype": "text/x-python",
   "name": "python",
   "nbconvert_exporter": "python",
   "pygments_lexer": "ipython3",
   "version": "3.9.7"
  }
 },
 "nbformat": 4,
 "nbformat_minor": 5
}
