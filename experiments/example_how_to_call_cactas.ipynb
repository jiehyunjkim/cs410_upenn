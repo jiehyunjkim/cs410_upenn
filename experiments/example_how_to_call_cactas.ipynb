{
 "cells": [
  {
   "cell_type": "code",
   "execution_count": 1,
   "metadata": {},
   "outputs": [],
   "source": [
    "import cactas as C"
   ]
  },
  {
   "cell_type": "code",
   "execution_count": 2,
   "metadata": {},
   "outputs": [
    {
     "ename": "FileNotFoundError",
     "evalue": "[Errno 2] No such file or directory: '/raid/mpsych/CACTAS/DATA/Nathan Arnett Calcification/'",
     "output_type": "error",
     "traceback": [
      "\u001b[0;31m---------------------------------------------------------------------------\u001b[0m",
      "\u001b[0;31mFileNotFoundError\u001b[0m                         Traceback (most recent call last)",
      "Cell \u001b[0;32mIn [2], line 1\u001b[0m\n\u001b[0;32m----> 1\u001b[0m datapath \u001b[39m=\u001b[39m C\u001b[39m.\u001b[39mUtil\u001b[39m.\u001b[39mload(\u001b[39m'\u001b[39m\u001b[39m/Users/jiehyun/Jenna/UMassBoston/Research/CACTAS/_EXPERIMENTS/data\u001b[39m\u001b[39m'\u001b[39m)\n",
      "File \u001b[0;32m~/Jenna/UMassBoston/Research/CACTAS/_EXPERIMENTS/cactas/util.py:15\u001b[0m, in \u001b[0;36mUtil.load\u001b[0;34m(which, datapath)\u001b[0m\n\u001b[1;32m     10\u001b[0m \u001b[39m@staticmethod\u001b[39m\n\u001b[1;32m     11\u001b[0m \u001b[39mdef\u001b[39;00m \u001b[39mload\u001b[39m(which, datapath\u001b[39m=\u001b[39m\u001b[39m'\u001b[39m\u001b[39m/raid/mpsych/CACTAS/DATA/Nathan Arnett Calcification/\u001b[39m\u001b[39m'\u001b[39m):\n\u001b[1;32m     12\u001b[0m   \u001b[39m#datapath='/raid/mpsych/CACTAS/DATA/Nathan Arnett Calcification/'\u001b[39;00m\n\u001b[1;32m     13\u001b[0m   \u001b[39m#datapath='/home/d/Dropbox/RESEARCH/CAROTID/DATA/Nathan Arnett Calcification/'\u001b[39;00m\n\u001b[1;32m     14\u001b[0m   \u001b[39m#datapath='/Users/jiehyun/Jenna/UMassBoston/Research/Nathan_Arnett_Calcification/'\u001b[39;00m\n\u001b[0;32m---> 15\u001b[0m   DATASETS \u001b[39m=\u001b[39m \u001b[39msorted\u001b[39m([v \u001b[39mfor\u001b[39;00m v \u001b[39min\u001b[39;00m os\u001b[39m.\u001b[39;49mlistdir(datapath) \u001b[39mif\u001b[39;00m os\u001b[39m.\u001b[39mpath\u001b[39m.\u001b[39misdir(datapath \u001b[39m+\u001b[39m v)])\n\u001b[1;32m     17\u001b[0m   D \u001b[39m=\u001b[39m DATASETS[which]\n\u001b[1;32m     19\u001b[0m   files \u001b[39m=\u001b[39m os\u001b[39m.\u001b[39mlistdir(datapath \u001b[39m+\u001b[39m D)\n",
      "\u001b[0;31mFileNotFoundError\u001b[0m: [Errno 2] No such file or directory: '/raid/mpsych/CACTAS/DATA/Nathan Arnett Calcification/'"
     ]
    }
   ],
   "source": [
    "datapath = C.Util.load('/Users/jiehyun/Jenna/UMassBoston/Research/CACTAS/_EXPERIMENTS/data')"
   ]
  }
 ],
 "metadata": {
  "kernelspec": {
   "display_name": "Python 3",
   "language": "python",
   "name": "python3"
  },
  "language_info": {
   "codemirror_mode": {
    "name": "ipython",
    "version": 3
   },
   "file_extension": ".py",
   "mimetype": "text/x-python",
   "name": "python",
   "nbconvert_exporter": "python",
   "pygments_lexer": "ipython3",
   "version": "3.10.6"
  },
  "orig_nbformat": 4,
  "vscode": {
   "interpreter": {
    "hash": "b0fa6594d8f4cbf19f97940f81e996739fb7646882a419484c72d19e05852a7e"
   }
  }
 },
 "nbformat": 4,
 "nbformat_minor": 2
}
