{
 "cells": [
  {
   "cell_type": "code",
   "execution_count": 1,
   "id": "ab21c4e1",
   "metadata": {},
   "outputs": [
    {
     "name": "stdout",
     "output_type": "stream",
     "text": [
      "%pylab is deprecated, use %matplotlib inline and import the required libraries.\n",
      "Populating the interactive namespace from numpy and matplotlib\n"
     ]
    }
   ],
   "source": [
    "%pylab inline"
   ]
  },
  {
   "cell_type": "code",
   "execution_count": 2,
   "id": "00e55144",
   "metadata": {},
   "outputs": [],
   "source": [
    "from sklearn.utils import shuffle\n",
    "from sklearn.model_selection import train_test_split\n",
    "from sklearn.ensemble import RandomForestClassifier\n",
    "from sklearn.model_selection import cross_val_score # k-folding\n",
    "import sklearn.metrics\n",
    "from scipy import stats"
   ]
  },
  {
   "cell_type": "code",
   "execution_count": 3,
   "id": "5259f6f4",
   "metadata": {},
   "outputs": [],
   "source": [
    "import cactas as C"
   ]
  },
  {
   "cell_type": "code",
   "execution_count": 4,
   "id": "318ad02f",
   "metadata": {},
   "outputs": [],
   "source": [
    "#import matplotlib.pyplot as plt\n",
    "#print(matplotlib.__version__)"
   ]
  },
  {
   "cell_type": "code",
   "execution_count": 5,
   "id": "70bb7ff1",
   "metadata": {},
   "outputs": [],
   "source": [
    "asymp = np.load('/raid/mpsych/CACTAS/DATA/ESUS/asymp_cropped_no_norm.npy')\n",
    "symp = np.load('/raid/mpsych/CACTAS/DATA/ESUS/symp_cropped_no_norm.npy')"
   ]
  },
  {
   "cell_type": "code",
   "execution_count": 6,
   "id": "45b5fe91",
   "metadata": {},
   "outputs": [],
   "source": [
    "labels = np.array([0]*len(asymp) + [1]*len(symp))\n",
    "images = np.concatenate((asymp, symp))"
   ]
  },
  {
   "cell_type": "code",
   "execution_count": null,
   "id": "5710a117",
   "metadata": {},
   "outputs": [],
   "source": []
  },
  {
   "cell_type": "code",
   "execution_count": 7,
   "id": "238565be",
   "metadata": {},
   "outputs": [
    {
     "name": "stdout",
     "output_type": "stream",
     "text": [
      "Test F1 score: []\n",
      "run 0 acc 0.9154929577464789 f1 0.9166666666666666\n",
      "test run 0 acc 0.5377558221594919 f1 0.6593863754550182\n",
      "Cross-validation F1 score: 0.85 (+/- 0.04)\n",
      "Test F1 score: [0.6593863754550182]\n",
      "run 1 acc 0.9014084507042254 f1 0.9041095890410958\n",
      "test run 1 acc 0.5377558221594919 f1 0.6502936465563268\n",
      "Cross-validation F1 score: 0.84 (+/- 0.07)\n",
      "Test F1 score: [0.6593863754550182, 0.6502936465563268]\n",
      "run 2 acc 0.9014084507042254 f1 0.9054054054054055\n",
      "test run 2 acc 0.5285815102328864 f1 0.6439232409381663\n",
      "Cross-validation F1 score: 0.84 (+/- 0.04)\n",
      "Test F1 score: [0.6593863754550182, 0.6502936465563268, 0.6439232409381663]\n",
      "run 3 acc 0.8943661971830986 f1 0.8993288590604027\n",
      "test run 3 acc 0.5335215243472125 f1 0.65446941975954\n",
      "Cross-validation F1 score: 0.83 (+/- 0.08)\n",
      "Test F1 score: [0.6593863754550182, 0.6502936465563268, 0.6439232409381663, 0.65446941975954]\n",
      "run 4 acc 0.8732394366197183 f1 0.8783783783783784\n",
      "test run 4 acc 0.5349329569513056 f1 0.6597831698502841\n",
      "Cross-validation F1 score: 0.83 (+/- 0.08)\n",
      "Test F1 score: [0.6593863754550182, 0.6502936465563268, 0.6439232409381663, 0.65446941975954, 0.6597831698502841]\n",
      "run 5 acc 0.9014084507042254 f1 0.9054054054054055\n",
      "test run 5 acc 0.5335215243472125 f1 0.6522882693319306\n",
      "Cross-validation F1 score: 0.84 (+/- 0.05)\n",
      "Test F1 score: [0.6593863754550182, 0.6502936465563268, 0.6439232409381663, 0.65446941975954, 0.6597831698502841, 0.6522882693319306]\n",
      "run 6 acc 0.9014084507042254 f1 0.9066666666666665\n",
      "test run 6 acc 0.5165843330980946 f1 0.6499744506898313\n",
      "Cross-validation F1 score: 0.84 (+/- 0.06)\n",
      "Test F1 score: [0.6593863754550182, 0.6502936465563268, 0.6439232409381663, 0.65446941975954, 0.6597831698502841, 0.6522882693319306, 0.6499744506898313]\n",
      "run 7 acc 0.8732394366197183 f1 0.8783783783783784\n",
      "test run 7 acc 0.5299929428369795 f1 0.6491043203371971\n",
      "Cross-validation F1 score: 0.83 (+/- 0.07)\n",
      "Test F1 score: [0.6593863754550182, 0.6502936465563268, 0.6439232409381663, 0.65446941975954, 0.6597831698502841, 0.6522882693319306, 0.6499744506898313, 0.6491043203371971]\n",
      "run 8 acc 0.9154929577464789 f1 0.918918918918919\n",
      "test run 8 acc 0.5314043754410727 f1 0.6552440290758048\n",
      "Cross-validation F1 score: 0.85 (+/- 0.04)\n",
      "Test F1 score: [0.6593863754550182, 0.6502936465563268, 0.6439232409381663, 0.65446941975954, 0.6597831698502841, 0.6522882693319306, 0.6499744506898313, 0.6491043203371971, 0.6552440290758048]\n",
      "run 9 acc 0.9084507042253521 f1 0.9115646258503401\n",
      "test run 9 acc 0.5278757939308398 f1 0.6443381180223285\n",
      "Cross-validation F1 score: 0.83 (+/- 0.06)\n"
     ]
    }
   ],
   "source": [
    "train_f1 = []\n",
    "test_f1 = []\n",
    "for i in range(10):\n",
    "    X, y = shuffle(images, labels, random_state=0)\n",
    "    X_train, X_val, y_train, y_val = train_test_split(X, y, test_size=0.10, random_state=0)\n",
    "    rf = RandomForestClassifier(n_estimators=100, max_depth=10, min_samples_split=5, min_samples_leaf=1) # Added more params\n",
    "    rf.set_params(max_features='sqrt')  # Lower threshold of max # of features used by each tree (reduces overfitting a bit)\n",
    "    \n",
    "    \n",
    "    X_train_raveled = X_train.reshape(X_train.shape[0], X_train.shape[1]*X_train.shape[2])\n",
    "    X_val_raveled = X_val.reshape(X_val.shape[0], X_val.shape[1]*X_val.shape[2])\n",
    "\n",
    "    # 5-fold cross-validation on the training data\n",
    "    scores = cross_val_score(rf, X_train_raveled, y_train, cv=5, scoring='f1')\n",
    "    \n",
    "    fitted = rf.fit(X_train_raveled, y_train)\n",
    "    \n",
    "    y_pred = rf.predict(X_val_raveled)\n",
    "    \n",
    "    f1 = sklearn.metrics.f1_score(y_val, y_pred)\n",
    "    print('Test F1 score:', test_f1)\n",
    "    train_f1.append(f1)\n",
    "    print('run', i, 'acc', sklearn.metrics.accuracy_score(y_val, y_pred), 'f1', f1)\n",
    "    \n",
    "    asymp_test = np.load('/raid/mpsych/CACTAS/DATA/ESUS/asymp_cropped.npy')\n",
    "    symp_test = np.load('/raid/mpsych/CACTAS/DATA/ESUS/symp_cropped.npy')\n",
    "\n",
    "    labels_test = np.array([0]*len(asymp_test) + [1]*len(symp_test))\n",
    "    images_test = np.concatenate((asymp_test, symp_test))\n",
    "    \n",
    "    X_test, y_test = shuffle(images_test, labels_test, random_state=0)\n",
    "    \n",
    "    X_test_raveled = X_test.reshape(X_test.shape[0], X_test.shape[1]*X_test.shape[2])\n",
    "    \n",
    "    y_pred = rf.predict(X_test_raveled)\n",
    "    \n",
    "    test_acc = sklearn.metrics.accuracy_score(y_test, y_pred)\n",
    "    c_test_f1 = sklearn.metrics.f1_score(y_test, y_pred)\n",
    "    print('test run', i, 'acc', test_acc, 'f1', c_test_f1)\n",
    "    # Print the mean and standard deviation of the cross-validation scores\n",
    "    print(\"Cross-validation F1 score: %0.2f (+/- %0.2f)\" % (scores.mean(), scores.std() * 2))\n",
    "    \n",
    "    test_f1.append(c_test_f1)"
   ]
  },
  {
   "cell_type": "code",
   "execution_count": null,
   "id": "b4909f34",
   "metadata": {},
   "outputs": [],
   "source": []
  },
  {
   "cell_type": "code",
   "execution_count": null,
   "id": "4a831d4b",
   "metadata": {},
   "outputs": [],
   "source": []
  },
  {
   "cell_type": "code",
   "execution_count": 8,
   "id": "61f2c4ae",
   "metadata": {},
   "outputs": [],
   "source": [
    "def boxplot(all_data, labels, y_label='Time [s]', y_lim_min=0, y_lim=1000, title=None, outputdir='/home/thuytien.chu001/CACTAS/_EXPERIMENTS/'):\n",
    "    matplotlib.rcParams.update({'font.size': 32})\n",
    "    plt.rc('axes', labelsize=65)    # fontsize of the x and y labels\n",
    "    plt.rc('legend', fontsize=32)   \n",
    "    plt.rc('xtick', labelsize=42) \n",
    "\n",
    "    # fig, (ax1, ax2) = plt.subplots(nrows=1, ncols=1, figsize=(9, 4))\n",
    "    fig = plt.figure(figsize=(7, 13))\n",
    "    ax = fig.gca()\n",
    "    # ax1 = plt.gcf()\n",
    "    boxprops = dict(color=\"black\",linewidth=1.5)\n",
    "    medianprops = dict(color=\"black\",linewidth=1.5)\n",
    "    # rectangular box plot\n",
    "    bplot1 = plt.boxplot(all_data,\n",
    "                         vert=True,  # vertical box alignment\n",
    "                         patch_artist=True,  # fill with color\n",
    "                         labels=labels,\n",
    "                         boxprops=boxprops,\n",
    "                         medianprops=medianprops)  # will be used to label x-ticks\n",
    "\n",
    "    # fill with colors\n",
    "    colors = ['#af8dc3', '#7fbf7b']\n",
    "    # for bplot in (bplot1, bplot2):\n",
    "    for patch, color in zip(bplot1['boxes'], colors):\n",
    "        patch.set_facecolor(color)\n",
    "\n",
    "    ax.set_ylabel(y_label)\n",
    "    ax.set_ylim(y_lim_min,y_lim)\n",
    "\n",
    "    titleb = title\n",
    "    if not title:\n",
    "        titleb = 'figure.pdf'\n",
    "\n",
    "\n",
    "\n",
    "    filename_pdf = outputdir+'/'+titleb.replace(' ','_').replace(',','')+'.pdf'\n",
    "    filename_png = outputdir+'/'+titleb.replace(' ','_').replace(',','')+'.png'\n",
    "    plt.savefig(filename_pdf,bbox_inches='tight')\n",
    "    plt.savefig(filename_png,bbox_inches='tight')\n",
    "\n",
    "    if title:\n",
    "        plt.title(title)\n",
    "\n",
    "\n",
    "    plt.show()\n",
    "\n",
    "\n",
    "\n",
    "    print(labels[0], np.mean(all_data[0]),'+/-', np.std(all_data[0]))\n",
    "    print(labels[1], np.mean(all_data[1]),'+/-', np.std(all_data[1]))\n",
    "\n",
    "    ttest = stats.ttest_ind(all_data[0],all_data[1])\n",
    "\n",
    "    print('t_'+str(len(all_data[0]+all_data[1])), '=', str(round(ttest[0],3)), ',p=',str(round(ttest[1],2)))"
   ]
  },
  {
   "cell_type": "code",
   "execution_count": 9,
   "id": "41a0b11f",
   "metadata": {},
   "outputs": [
    {
     "data": {
      "image/png": "[encoded data removed]",
      "text/plain": [
       "<Figure size 700x1300 with 1 Axes>"
      ]
     },
     "metadata": {},
     "output_type": "display_data"
    },
    {
     "name": "stdout",
     "output_type": "stream",
     "text": [
      "Train 0.902482289377166 +/- 0.01327793542445331\n",
      "Test 0.6518805040016427 +/- 0.005206114341048872\n",
      "t_20 = 52.714 ,p= 0.0\n"
     ]
    }
   ],
   "source": [
    "data = [train_f1, test_f1]\n",
    "labels = ['Train', 'Test']\n",
    "boxplot(data, labels, y_lim=1, y_label='F1 Score', outputdir='/home/thuytien.chu001/CACTAS/_EXPERIMENTS/')\n"
   ]
  },
  {
   "cell_type": "code",
   "execution_count": 10,
   "id": "25d15f50",
   "metadata": {},
   "outputs": [],
   "source": [
    "# data augmentatioN? hyperparams? CNN"
   ]
  },
  {
   "cell_type": "code",
   "execution_count": null,
   "id": "a77bc66b",
   "metadata": {},
   "outputs": [],
   "source": [
    "# NOTES: f1 variance of testing is still high"
   ]
  },
  {
   "cell_type": "code",
   "execution_count": null,
   "id": "56f64638",
   "metadata": {},
   "outputs": [],
   "source": []
  },
  {
   "cell_type": "code",
   "execution_count": null,
   "id": "b6f9d6aa",
   "metadata": {},
   "outputs": [],
   "source": []
  }
 ],
 "metadata": {
  "kernelspec": {
   "display_name": "Python 3 (ipykernel)",
   "language": "python",
   "name": "python3"
  },
  "language_info": {
   "codemirror_mode": {
    "name": "ipython",
    "version": 3
   },
   "file_extension": ".py",
   "mimetype": "text/x-python",
   "name": "python",
   "nbconvert_exporter": "python",
   "pygments_lexer": "ipython3",
   "version": "3.10.8"
  }
 },
 "nbformat": 4,
 "nbformat_minor": 5
}
