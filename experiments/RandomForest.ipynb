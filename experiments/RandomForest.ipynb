{
 "cells": [
  {
   "cell_type": "code",
   "execution_count": 1,
   "id": "ab21c4e1",
   "metadata": {},
   "outputs": [
    {
     "name": "stdout",
     "output_type": "stream",
     "text": [
      "Populating the interactive namespace from numpy and matplotlib\n"
     ]
    }
   ],
   "source": [
    "%pylab inline"
   ]
  },
  {
   "cell_type": "code",
   "execution_count": 9,
   "id": "00e55144",
   "metadata": {},
   "outputs": [],
   "source": [
    "from sklearn.utils import shuffle\n",
    "from sklearn.model_selection import train_test_split\n",
    "from sklearn.ensemble import RandomForestClassifier\n",
    "import sklearn.metrics\n",
    "from scipy import stats"
   ]
  },
  {
   "cell_type": "code",
   "execution_count": 3,
   "id": "5259f6f4",
   "metadata": {},
   "outputs": [],
   "source": [
    "import cactas as C"
   ]
  },
  {
   "cell_type": "code",
   "execution_count": null,
   "id": "318ad02f",
   "metadata": {},
   "outputs": [],
   "source": []
  },
  {
   "cell_type": "code",
   "execution_count": 4,
   "id": "70bb7ff1",
   "metadata": {},
   "outputs": [],
   "source": [
    "asymp = np.load('/raid/mpsych/CACTAS/DATA/ESUS/asymp_cropped_no_norm.npy')\n",
    "symp = np.load('/raid/mpsych/CACTAS/DATA/ESUS/symp_cropped_no_norm.npy')"
   ]
  },
  {
   "cell_type": "code",
   "execution_count": 5,
   "id": "45b5fe91",
   "metadata": {},
   "outputs": [],
   "source": [
    "labels = np.array([0]*len(asymp) + [1]*len(symp))\n",
    "images = np.concatenate((asymp, symp))"
   ]
  },
  {
   "cell_type": "code",
   "execution_count": null,
   "id": "5710a117",
   "metadata": {},
   "outputs": [],
   "source": []
  },
  {
   "cell_type": "code",
   "execution_count": 6,
   "id": "238565be",
   "metadata": {},
   "outputs": [
    {
     "name": "stdout",
     "output_type": "stream",
     "text": [
      "run 0 acc 0.8943661971830986 f1 0.8993288590604027\n",
      "test run 0 acc 0.5405786873676782 f1 0.6575486586007364\n",
      "run 1 acc 0.9436619718309859 f1 0.9459459459459458\n",
      "test run 1 acc 0.5271700776287932 f1 0.6473684210526316\n",
      "run 2 acc 0.9225352112676056 f1 0.9271523178807948\n",
      "test run 2 acc 0.5419901199717714 f1 0.6512627619559377\n",
      "run 3 acc 0.9295774647887324 f1 0.9315068493150684\n",
      "test run 3 acc 0.5130557515878617 f1 0.6424870466321244\n",
      "run 4 acc 0.9366197183098591 f1 0.9387755102040816\n",
      "test run 4 acc 0.5222300635144672 f1 0.649404453650958\n",
      "run 5 acc 0.8943661971830986 f1 0.8979591836734694\n",
      "test run 5 acc 0.5222300635144672 f1 0.6472120896300156\n",
      "run 6 acc 0.9154929577464789 f1 0.9178082191780822\n",
      "test run 6 acc 0.5419901199717714 f1 0.6666666666666666\n",
      "run 7 acc 0.9366197183098591 f1 0.9387755102040816\n",
      "test run 7 acc 0.5257586450247 f1 0.6518134715025907\n",
      "run 8 acc 0.9084507042253521 f1 0.9139072847682119\n",
      "test run 8 acc 0.534227240649259 f1 0.6511627906976744\n",
      "run 9 acc 0.9084507042253521 f1 0.9103448275862068\n",
      "test run 9 acc 0.5257586450247 f1 0.6496350364963503\n"
     ]
    }
   ],
   "source": [
    "train_f1 = []\n",
    "test_f1 = []\n",
    "for i in range(10):\n",
    "    X, y = shuffle(images, labels, random_state=0)\n",
    "    X_train, X_val, y_train, y_val = train_test_split(X, y, test_size=0.10, random_state=0)\n",
    "    rf = RandomForestClassifier(n_estimators=100)\n",
    "    \n",
    "    X_train_raveled = X_train.reshape(X_train.shape[0], X_train.shape[1]*X_train.shape[2])\n",
    "    X_val_raveled = X_val.reshape(X_val.shape[0], X_val.shape[1]*X_val.shape[2])\n",
    "\n",
    "    fitted = rf.fit(X_train_raveled, y_train)\n",
    "    \n",
    "    y_pred = rf.predict(X_val_raveled)\n",
    "    \n",
    "    \n",
    "    f1 = sklearn.metrics.f1_score(y_val, y_pred)\n",
    "    train_f1.append(f1)\n",
    "    print('run', i, 'acc', sklearn.metrics.accuracy_score(y_val, y_pred), 'f1', f1)\n",
    "    \n",
    "    asymp_test = np.load('/raid/mpsych/CACTAS/DATA/ESUS/asymp_cropped.npy')\n",
    "    symp_test = np.load('/raid/mpsych/CACTAS/DATA/ESUS/symp_cropped.npy')\n",
    "\n",
    "    labels_test = np.array([0]*len(asymp_test) + [1]*len(symp_test))\n",
    "    images_test = np.concatenate((asymp_test, symp_test))\n",
    "    \n",
    "    X_test, y_test = shuffle(images_test, labels_test, random_state=0)\n",
    "    \n",
    "    X_test_raveled = X_test.reshape(X_test.shape[0], X_test.shape[1]*X_test.shape[2])\n",
    "    \n",
    "    y_pred = rf.predict(X_test_raveled)\n",
    "    \n",
    "    test_acc = sklearn.metrics.accuracy_score(y_test, y_pred)\n",
    "    c_test_f1 = sklearn.metrics.f1_score(y_test, y_pred)\n",
    "    print('test run', i, 'acc', test_acc, 'f1', c_test_f1)\n",
    "    \n",
    "    test_f1.append(c_test_f1)"
   ]
  },
  {
   "cell_type": "code",
   "execution_count": null,
   "id": "b4909f34",
   "metadata": {},
   "outputs": [],
   "source": []
  },
  {
   "cell_type": "code",
   "execution_count": null,
   "id": "4a831d4b",
   "metadata": {},
   "outputs": [],
   "source": []
  },
  {
   "cell_type": "code",
   "execution_count": 10,
   "id": "61f2c4ae",
   "metadata": {},
   "outputs": [],
   "source": [
    "def boxplot(all_data, labels, y_label='Time [s]', y_lim_min=0, y_lim=1000, title=None, outputdir='/home/jiehyun.kim001/CACTAS/_EXPERIMENTS/'):\n",
    "    matplotlib.rcParams.update({'font.size': 32})\n",
    "    plt.rc('axes', labelsize=65)    # fontsize of the x and y labels\n",
    "    plt.rc('legend', fontsize=32)   \n",
    "    plt.rc('xtick', labelsize=42) \n",
    "\n",
    "    # fig, (ax1, ax2) = plt.subplots(nrows=1, ncols=1, figsize=(9, 4))\n",
    "    fig = plt.figure(figsize=(7, 13))\n",
    "    ax = fig.gca()\n",
    "    # ax1 = plt.gcf()\n",
    "    boxprops = dict(color=\"black\",linewidth=1.5)\n",
    "    medianprops = dict(color=\"black\",linewidth=1.5)\n",
    "    # rectangular box plot\n",
    "    bplot1 = plt.boxplot(all_data,\n",
    "                         vert=True,  # vertical box alignment\n",
    "                         patch_artist=True,  # fill with color\n",
    "                         labels=labels,\n",
    "                         boxprops=boxprops,\n",
    "                         medianprops=medianprops)  # will be used to label x-ticks\n",
    "\n",
    "    # fill with colors\n",
    "    colors = ['#af8dc3', '#7fbf7b']\n",
    "    # for bplot in (bplot1, bplot2):\n",
    "    for patch, color in zip(bplot1['boxes'], colors):\n",
    "        patch.set_facecolor(color)\n",
    "\n",
    "    ax.set_ylabel(y_label)\n",
    "    ax.set_ylim(y_lim_min,y_lim)\n",
    "\n",
    "    titleb = title\n",
    "    if not title:\n",
    "        titleb = 'figure.pdf'\n",
    "\n",
    "\n",
    "\n",
    "    filename_pdf = outputdir+'/'+titleb.replace(' ','_').replace(',','')+'.pdf'\n",
    "    filename_png = outputdir+'/'+titleb.replace(' ','_').replace(',','')+'.png'\n",
    "    plt.savefig(filename_pdf,bbox_inches='tight')\n",
    "    plt.savefig(filename_png,bbox_inches='tight')\n",
    "\n",
    "    if title:\n",
    "        plt.title(title)\n",
    "\n",
    "\n",
    "    plt.show()\n",
    "\n",
    "\n",
    "\n",
    "    print(labels[0], np.mean(all_data[0]),'+/-', np.std(all_data[0]))\n",
    "    print(labels[1], np.mean(all_data[1]),'+/-', np.std(all_data[1]))\n",
    "\n",
    "    ttest = stats.ttest_ind(all_data[0],all_data[1])\n",
    "\n",
    "    print('t_'+str(len(all_data[0]+all_data[1])), '=', str(round(ttest[0],3)), ',p=',str(round(ttest[1],2)))"
   ]
  },
  {
   "cell_type": "code",
   "execution_count": 11,
   "id": "41a0b11f",
   "metadata": {},
   "outputs": [
    {
     "data": {
      "image/png": "[encoded data removed]",
      "text/plain": [
       "<Figure size 504x936 with 1 Axes>"
      ]
     },
     "metadata": {
      "needs_background": "light"
     },
     "output_type": "display_data"
    },
    {
     "name": "stdout",
     "output_type": "stream",
     "text": [
      "Train 0.9221504507816345 +/- 0.0160118444064199\n",
      "Test 0.6514561396885685 +/- 0.006256372107577187\n",
      "t_20 = 47.24 ,p= 0.0\n"
     ]
    }
   ],
   "source": [
    "data = [train_f1, test_f1]\n",
    "labels = ['Train', 'Test']\n",
    "boxplot(data, labels, y_lim=1, y_label='F1 Score', outputdir='/home/jiehyun.kim001/CACTAS/_EXPERIMENTS/')"
   ]
  },
  {
   "cell_type": "code",
   "execution_count": null,
   "id": "25d15f50",
   "metadata": {},
   "outputs": [],
   "source": []
  },
  {
   "cell_type": "code",
   "execution_count": null,
   "id": "a77bc66b",
   "metadata": {},
   "outputs": [],
   "source": []
  },
  {
   "cell_type": "code",
   "execution_count": null,
   "id": "56f64638",
   "metadata": {},
   "outputs": [],
   "source": []
  }
 ],
 "metadata": {
  "kernelspec": {
   "display_name": "Python 3 (ipykernel)",
   "language": "python",
   "name": "python3"
  },
  "language_info": {
   "codemirror_mode": {
    "name": "ipython",
    "version": 3
   },
   "file_extension": ".py",
   "mimetype": "text/x-python",
   "name": "python",
   "nbconvert_exporter": "python",
   "pygments_lexer": "ipython3",
   "version": "3.9.7"
  }
 },
 "nbformat": 4,
 "nbformat_minor": 5
}
